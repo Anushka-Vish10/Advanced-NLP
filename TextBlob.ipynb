{
  "nbformat": 4,
  "nbformat_minor": 0,
  "metadata": {
    "kernelspec": {
      "display_name": "Python 3",
      "language": "python",
      "name": "python3"
    },
    "language_info": {
      "codemirror_mode": {
        "name": "ipython",
        "version": 3
      },
      "file_extension": ".py",
      "mimetype": "text/x-python",
      "name": "python",
      "nbconvert_exporter": "python",
      "pygments_lexer": "ipython3",
      "version": "3.7.4"
    },
    "colab": {
      "name": "TextBlob.ipynb",
      "provenance": [],
      "collapsed_sections": [
        "CPqpiO3iQKNd",
        "Kue-0wlMQKN3",
        "p2TurfS3QKOO",
        "9brXTXewQKOa",
        "2Dj5qCL4QKOr",
        "D14RFpIEQKPI",
        "Yq6a81HGQKPY",
        "CpeMr6tmQKPd",
        "SMtYkGwAQKP-",
        "hnnZswO5QKQH",
        "OGQs8DANQKQU",
        "oAS7BozlQKQY",
        "bvYklUK-QKQn",
        "W27Z68BkQKQw",
        "UeHCkjoQQKQ1",
        "2PgFtvYMQKQ8"
      ]
    }
  },
  "cells": [
    {
      "cell_type": "markdown",
      "metadata": {
        "id": "l1_53okMQKMT"
      },
      "source": [
        "# TextBlob: Simplified Text Processing \n",
        "\n",
        "TextBlob is a Python (2 and 3) library for processing textual data. It provides a simple API for diving into common natural language processing (NLP) tasks such as part-of-speech tagging, noun phrase extraction, sentiment analysis, classification, translation,and more.\n",
        "\n",
        "TextBlob stands on the giant shoulders of NLTK and pattern, and plays nicely with both.\n",
        "\n",
        "## Features\n",
        "- Noun phrase extraction\n",
        "- Part-of-speech tagging\n",
        "- Sentiment analysis\n",
        "- Classification (Naive Bayes, Decision Tree)\n",
        "- Language translation and detection powered by Google Translate\n",
        "- Tokenization (splitting text into words and sentences)\n",
        "- Word and phrase frequencies\n",
        "- Parsing\n",
        "- n-grams\n",
        "- Word inflection (pluralization and singularization) and lemmatization\n",
        "- Spelling correction\n",
        "- Add new models or languages through extensions\n",
        "- WordNet integration\n",
        "\n",
        "## Installation\n",
        "\n",
        "### Installing/Uploading from the PyPi\n",
        "     \n",
        "      pip install textblob\n",
        "      python -m textblob.download_corpora\n",
        "\n",
        "This will install TextBlob and download the necessary NLTK corpora. If you need to change the default download directory set the NLTK_DATA environment variable.\n",
        "\n",
        "### Downloading the minimum corpora:\n",
        "\n",
        "If you only intend to use TextBlob’s default models (no model overrides), you can pass the lite argument. This downloads only those corpora needed for basic functionality.\n",
        "\n",
        "      python -m textblob.download_corpora lite\n",
        "      \n",
        "### Installing with Conda\n",
        "\n",
        "***Note:*** Conda builds are currently available for Mac OSX only.\n",
        "\n",
        "TextBlob is also available as a conda package. To install with conda, run\n",
        "\n",
        "     conda install -c https://conda.anaconda.org/sloria textblob\n",
        "     python -m textblob.download_corpora\n",
        "     \n",
        "### Python\n",
        "\n",
        "TextBlob supports Python >=2.7 or >=3.4.\n",
        "\n",
        "### Dependencies\n",
        "\n",
        "TextBlob depends on NLTK3. NLTK will be installed automatically when you run\n",
        "     \n",
        "     pip install textblob\n",
        "     \n",
        "     \n",
        "TextBlob aims to provide access to common text-processing operations through a familiar interface. You can treat **TextBlob** objects as if they were Python strings that learned how to do Natural Language Processing.\n",
        "\n",
        "### Create a TextBlob\n",
        "\n",
        "First, the import"
      ]
    },
    {
      "cell_type": "code",
      "metadata": {
        "id": "qwTQw4CpQKMW"
      },
      "source": [
        "from textblob import TextBlob"
      ],
      "execution_count": 1,
      "outputs": []
    },
    {
      "cell_type": "markdown",
      "metadata": {
        "id": "o8l3gUtrQKMg"
      },
      "source": [
        "Let's create our first **TextBlob**"
      ]
    },
    {
      "cell_type": "code",
      "metadata": {
        "id": "flJP0NNDQKMi"
      },
      "source": [
        "wiki = TextBlob(\"I love Natural Language Processing, not you!\")"
      ],
      "execution_count": 2,
      "outputs": []
    },
    {
      "cell_type": "markdown",
      "metadata": {
        "id": "j1kyr_mGQKMq"
      },
      "source": [
        "### Part-of-speech(POS) Tagging\n",
        "\n",
        "Parts-of-speech tags can be accessed through the **tags** property."
      ]
    },
    {
      "cell_type": "code",
      "source": [
        "import nltk\n",
        "nltk.download('punkt')\n",
        "nltk.download('averaged_perceptron_tagger')\n",
        "nltk.download('brown')"
      ],
      "metadata": {
        "colab": {
          "base_uri": "https://localhost:8080/"
        },
        "id": "9fzLTCQgnFqK",
        "outputId": "f6575a7f-477a-4682-b959-29fd8ffbe001"
      },
      "execution_count": 9,
      "outputs": [
        {
          "output_type": "stream",
          "name": "stdout",
          "text": [
            "[nltk_data] Downloading package punkt to /root/nltk_data...\n",
            "[nltk_data]   Package punkt is already up-to-date!\n",
            "[nltk_data] Downloading package averaged_perceptron_tagger to\n",
            "[nltk_data]     /root/nltk_data...\n",
            "[nltk_data]   Package averaged_perceptron_tagger is already up-to-\n",
            "[nltk_data]       date!\n",
            "[nltk_data] Downloading package brown to /root/nltk_data...\n",
            "[nltk_data]   Unzipping corpora/brown.zip.\n"
          ]
        },
        {
          "output_type": "execute_result",
          "data": {
            "text/plain": [
              "True"
            ]
          },
          "metadata": {},
          "execution_count": 9
        }
      ]
    },
    {
      "cell_type": "code",
      "metadata": {
        "id": "rEMpLxw0QKMr",
        "colab": {
          "base_uri": "https://localhost:8080/"
        },
        "outputId": "cb16b469-92fb-4e83-b260-ebc2a1277aa2"
      },
      "source": [
        "wiki.tags"
      ],
      "execution_count": 7,
      "outputs": [
        {
          "output_type": "execute_result",
          "data": {
            "text/plain": [
              "[('I', 'PRP'),\n",
              " ('love', 'VBP'),\n",
              " ('Natural', 'JJ'),\n",
              " ('Language', 'NNP'),\n",
              " ('Processing', 'NNP'),\n",
              " ('not', 'RB'),\n",
              " ('you', 'PRP')]"
            ]
          },
          "metadata": {},
          "execution_count": 7
        }
      ]
    },
    {
      "cell_type": "markdown",
      "metadata": {
        "id": "PFM5vYEvQKM0"
      },
      "source": [
        "### Noun Phrase Extraction\n",
        "\n",
        "Similarly, noun phrases are accessed through the **noun_phrases** property."
      ]
    },
    {
      "cell_type": "code",
      "metadata": {
        "id": "0e3ovG62QKM1",
        "colab": {
          "base_uri": "https://localhost:8080/"
        },
        "outputId": "bf38db86-7504-4d1f-e309-4ddd632b875f"
      },
      "source": [
        "wiki.noun_phrases"
      ],
      "execution_count": 10,
      "outputs": [
        {
          "output_type": "execute_result",
          "data": {
            "text/plain": [
              "WordList(['language processing'])"
            ]
          },
          "metadata": {},
          "execution_count": 10
        }
      ]
    },
    {
      "cell_type": "markdown",
      "metadata": {
        "id": "urW_2BG6QKM8"
      },
      "source": [
        "### Sentiment Analysis\n",
        "\n",
        "The sentiment property returns a named tuple of the form Sentiment(polarity, subjectivity). The polarity score is a float within the range [-1.0, 1.0]. The subjectivity is a float within the range [0.0, 1.0] where 0.0 is very objective and 1.0 is very subjective."
      ]
    },
    {
      "cell_type": "code",
      "metadata": {
        "id": "1UNjWuXVQKM9",
        "colab": {
          "base_uri": "https://localhost:8080/"
        },
        "outputId": "552cfee9-4ac2-451f-eda4-534262969191"
      },
      "source": [
        "testimonial = TextBlob(\"Textblob is amazingly simple to use. What great fun!\")\n",
        "testimonial.sentiment"
      ],
      "execution_count": 11,
      "outputs": [
        {
          "output_type": "execute_result",
          "data": {
            "text/plain": [
              "Sentiment(polarity=0.39166666666666666, subjectivity=0.4357142857142857)"
            ]
          },
          "metadata": {},
          "execution_count": 11
        }
      ]
    },
    {
      "cell_type": "code",
      "metadata": {
        "id": "AIFT1QiuQKNE",
        "outputId": "dee713bc-f256-4dde-c462-38a79f66eaa0"
      },
      "source": [
        "testimonial.sentiment.subjectivity"
      ],
      "execution_count": null,
      "outputs": [
        {
          "output_type": "execute_result",
          "data": {
            "text/plain": [
              "0.4357142857142857"
            ]
          },
          "metadata": {
            "tags": []
          },
          "execution_count": 6
        }
      ]
    },
    {
      "cell_type": "markdown",
      "metadata": {
        "id": "SJOCx-EwQKNL"
      },
      "source": [
        "### Tokenization\n",
        "\n"
      ]
    },
    {
      "cell_type": "code",
      "metadata": {
        "id": "Z1L86eZeQKNM",
        "colab": {
          "base_uri": "https://localhost:8080/"
        },
        "outputId": "d432b8f2-738b-4bf3-a09a-9edb3ebfc65a"
      },
      "source": [
        "zen = TextBlob(\"Data is a new fuel. \"\n",
        "               \"Explicit is better than implicit. \"\n",
        "               \"Simple is better than complex. \")\n",
        "               \n",
        "zen.words # This keyword words use to tokenize the sentenc into words"
      ],
      "execution_count": 12,
      "outputs": [
        {
          "output_type": "execute_result",
          "data": {
            "text/plain": [
              "WordList(['Data', 'is', 'a', 'new', 'fuel', 'Explicit', 'is', 'better', 'than', 'implicit', 'Simple', 'is', 'better', 'than', 'complex'])"
            ]
          },
          "metadata": {},
          "execution_count": 12
        }
      ]
    },
    {
      "cell_type": "code",
      "metadata": {
        "id": "QgwacTElQKNS",
        "outputId": "e85c7cae-4d00-4af5-b019-01165ef8b11b"
      },
      "source": [
        "zen.sentences  # give us the sentence separately"
      ],
      "execution_count": null,
      "outputs": [
        {
          "output_type": "execute_result",
          "data": {
            "text/plain": [
              "[Sentence(\"Data is a new fuel.\"),\n",
              " Sentence(\"Explicit is better than implicit.\"),\n",
              " Sentence(\"Simple is better than complex.\")]"
            ]
          },
          "metadata": {
            "tags": []
          },
          "execution_count": 8
        }
      ]
    },
    {
      "cell_type": "markdown",
      "metadata": {
        "id": "7CFIzmnPQKNX"
      },
      "source": [
        "*Sentences* objects have the same properties and methods as ***TextBlobs***"
      ]
    },
    {
      "cell_type": "code",
      "metadata": {
        "id": "_yeoVVCrQKNY",
        "outputId": "2199b4c3-1e1b-4754-9fd4-862f7142ff81"
      },
      "source": [
        "for sentence in zen.sentences:\n",
        "    print(sentence)"
      ],
      "execution_count": null,
      "outputs": [
        {
          "output_type": "stream",
          "text": [
            "Data is a new fuel.\n",
            "Explicit is better than implicit.\n",
            "Simple is better than complex.\n"
          ],
          "name": "stdout"
        }
      ]
    },
    {
      "cell_type": "markdown",
      "metadata": {
        "id": "CPqpiO3iQKNd"
      },
      "source": [
        "## Word Inflection and lemmatization\n",
        "\n",
        "Each word in the **TextBlob.words** or **Sentence.words** is a **Word** object(a subclass of unicode) with useful methods, e.g. for word inflection."
      ]
    },
    {
      "cell_type": "code",
      "metadata": {
        "id": "Uaz3L4RxQKNf",
        "outputId": "893aeee0-14e4-42d5-c113-952434119e2b"
      },
      "source": [
        "sentence = TextBlob('Use 4 spaces per indentation level')\n",
        "\n",
        "sentence.words"
      ],
      "execution_count": null,
      "outputs": [
        {
          "output_type": "execute_result",
          "data": {
            "text/plain": [
              "WordList(['Use', '4', 'spaces', 'per', 'indentation', 'level'])"
            ]
          },
          "metadata": {
            "tags": []
          },
          "execution_count": 10
        }
      ]
    },
    {
      "cell_type": "code",
      "metadata": {
        "id": "yVMElzFbQKNl",
        "outputId": "1d9caa7e-cc6b-47ff-d77d-1d0cbe26c24e"
      },
      "source": [
        "sentence.words[2].singularize()"
      ],
      "execution_count": null,
      "outputs": [
        {
          "output_type": "execute_result",
          "data": {
            "text/plain": [
              "'space'"
            ]
          },
          "metadata": {
            "tags": []
          },
          "execution_count": 11
        }
      ]
    },
    {
      "cell_type": "code",
      "metadata": {
        "id": "r52rhEyXQKNp",
        "outputId": "0e27cb3f-2e37-4387-b564-40f9bfe850ea"
      },
      "source": [
        "sentence.words[0].pluralize()"
      ],
      "execution_count": null,
      "outputs": [
        {
          "output_type": "execute_result",
          "data": {
            "text/plain": [
              "'Uses'"
            ]
          },
          "metadata": {
            "tags": []
          },
          "execution_count": 13
        }
      ]
    },
    {
      "cell_type": "markdown",
      "metadata": {
        "id": "Vz-ka2koQKNu"
      },
      "source": [
        "Words can be lemmatized just by calling the **lemmatize** method."
      ]
    },
    {
      "cell_type": "code",
      "metadata": {
        "id": "nNAqcV2LQKNu",
        "outputId": "8f745e01-8f8d-4f87-dad8-0d82fe23b7f8"
      },
      "source": [
        "from textblob import Word\n",
        "\n",
        "q = Word('lions')\n",
        "q.lemmatize()"
      ],
      "execution_count": null,
      "outputs": [
        {
          "output_type": "execute_result",
          "data": {
            "text/plain": [
              "'lion'"
            ]
          },
          "metadata": {
            "tags": []
          },
          "execution_count": 21
        }
      ]
    },
    {
      "cell_type": "code",
      "metadata": {
        "id": "gNNO328rQKNz",
        "outputId": "1cb51846-b361-4deb-e74a-54661fd56a44"
      },
      "source": [
        "q = Word(\"went\")\n",
        "q.lemmatize(\"v\") #Pass in WordNet part of speech (verb)"
      ],
      "execution_count": null,
      "outputs": [
        {
          "output_type": "execute_result",
          "data": {
            "text/plain": [
              "'go'"
            ]
          },
          "metadata": {
            "tags": []
          },
          "execution_count": 28
        }
      ]
    },
    {
      "cell_type": "markdown",
      "metadata": {
        "id": "Kue-0wlMQKN3"
      },
      "source": [
        "## WordNet Integeration\n",
        "\n",
        "You can access the synets for a **Word** via the **synsets** property or the **get_synsets** method optionally passing in a parts-of-speech.\n",
        "\n",
        "### WordNet \n",
        "\n",
        "   WordNet is a lexical database that is dictionary for the English language, it is specifically for the natural language     processing.\n",
        "### Synset\n",
        "\n",
        "   It is a special kind of a simple interface that is present in the NLTK for look up words in WordNet. Synset instances are    the groupings of synonymous that express the same type of concept. Some words have only one synset and some have several."
      ]
    },
    {
      "cell_type": "code",
      "metadata": {
        "id": "BsSzrvM2QKN3",
        "outputId": "711fb3a2-c7a7-4149-d895-fe1a365088bf"
      },
      "source": [
        "from textblob import Word\n",
        "from textblob.wordnet import VERB\n",
        "word = Word(\"goat\")\n",
        "word.synsets"
      ],
      "execution_count": null,
      "outputs": [
        {
          "output_type": "execute_result",
          "data": {
            "text/plain": [
              "[Synset('goat.n.01'),\n",
              " Synset('butt.n.03'),\n",
              " Synset('capricorn.n.01'),\n",
              " Synset('capricorn.n.03')]"
            ]
          },
          "metadata": {
            "tags": []
          },
          "execution_count": 29
        }
      ]
    },
    {
      "cell_type": "code",
      "metadata": {
        "id": "L9Fkqio0QKN8",
        "outputId": "34f52a97-fb23-4056-9b2a-205a4bbcd495"
      },
      "source": [
        "Word(\"hack\").get_synsets(pos=VERB)"
      ],
      "execution_count": null,
      "outputs": [
        {
          "output_type": "execute_result",
          "data": {
            "text/plain": [
              "[Synset('chop.v.05'),\n",
              " Synset('hack.v.02'),\n",
              " Synset('hack.v.03'),\n",
              " Synset('hack.v.04'),\n",
              " Synset('hack.v.05'),\n",
              " Synset('hack.v.06'),\n",
              " Synset('hack.v.07'),\n",
              " Synset('hack.v.08')]"
            ]
          },
          "metadata": {
            "tags": []
          },
          "execution_count": 31
        }
      ]
    },
    {
      "cell_type": "markdown",
      "metadata": {
        "id": "mu0lbHAXQKOB"
      },
      "source": [
        "You can access the definitions for each synset via the **definitions** property or the **define()** method, which can also take an optional part-of-speech(pos) argument."
      ]
    },
    {
      "cell_type": "code",
      "metadata": {
        "id": "66SO4hQcQKOC",
        "outputId": "02a8b1df-193e-418f-f499-5c43997ae50d"
      },
      "source": [
        "Word(\"length\").definitions"
      ],
      "execution_count": null,
      "outputs": [
        {
          "output_type": "execute_result",
          "data": {
            "text/plain": [
              "['the linear extent in space from one end to the other; the longest dimension of something that is fixed in place',\n",
              " 'continuance in time',\n",
              " 'the property of being the extent of something from beginning to end',\n",
              " 'size of the gap between two places',\n",
              " 'a section of something that is long and narrow']"
            ]
          },
          "metadata": {
            "tags": []
          },
          "execution_count": 32
        }
      ]
    },
    {
      "cell_type": "markdown",
      "metadata": {
        "id": "6x37w7IgQKOF"
      },
      "source": [
        "You can also create synsets directly."
      ]
    },
    {
      "cell_type": "code",
      "metadata": {
        "id": "-LZjDnY_QKOG",
        "outputId": "9c46f73e-d0a2-4fe0-c28d-591dd10c3d2a"
      },
      "source": [
        "from textblob.wordnet import Synset\n",
        "octopus = Synset('octopus.n.02')\n",
        "shrimp = Synset('shrimp.n.03')\n",
        "octopus.path_similarity(shrimp)"
      ],
      "execution_count": null,
      "outputs": [
        {
          "output_type": "execute_result",
          "data": {
            "text/plain": [
              "0.1111111111111111"
            ]
          },
          "metadata": {
            "tags": []
          },
          "execution_count": 33
        }
      ]
    },
    {
      "cell_type": "markdown",
      "metadata": {
        "id": "p2TurfS3QKOO"
      },
      "source": [
        "### WordLists\n",
        "\n",
        "A wordlist is just the Python list with additional methods.\n",
        "\n",
        "WordLists will find it out the words which are in the sentence and ignore the spaces in between them. "
      ]
    },
    {
      "cell_type": "code",
      "metadata": {
        "id": "b-BrHvw3QKOP",
        "outputId": "9d26a0a9-6c7f-4952-bf02-0c19188bdd42"
      },
      "source": [
        "animals = TextBlob(\"cow sheep octopus\")\n",
        "animals.words"
      ],
      "execution_count": null,
      "outputs": [
        {
          "output_type": "execute_result",
          "data": {
            "text/plain": [
              "WordList(['cow', 'sheep', 'octopus'])"
            ]
          },
          "metadata": {
            "tags": []
          },
          "execution_count": 35
        }
      ]
    },
    {
      "cell_type": "code",
      "metadata": {
        "id": "YCUjGS5bQKOV",
        "outputId": "7740bf88-c0f1-4c41-e2ab-438c72de0b6a"
      },
      "source": [
        "animals.words.pluralize() # It'll pluralize the words"
      ],
      "execution_count": null,
      "outputs": [
        {
          "output_type": "execute_result",
          "data": {
            "text/plain": [
              "WordList(['kine', 'sheep', 'octopodes'])"
            ]
          },
          "metadata": {
            "tags": []
          },
          "execution_count": 36
        }
      ]
    },
    {
      "cell_type": "markdown",
      "metadata": {
        "id": "9brXTXewQKOa"
      },
      "source": [
        "### Spelling Correction\n",
        "\n",
        "For correcting the words you can use **correct()** method to attempt spelling correction."
      ]
    },
    {
      "cell_type": "code",
      "metadata": {
        "id": "s6bo2WNOQKOb",
        "outputId": "0ae40ae6-8946-4af9-ffa4-2258bab22af8"
      },
      "source": [
        "g = TextBlob('Can you pronounce czechuslovakia?')\n",
        "print(g.correct())"
      ],
      "execution_count": null,
      "outputs": [
        {
          "output_type": "stream",
          "text": [
            "An you pronounce czechoslovakia?\n"
          ],
          "name": "stdout"
        }
      ]
    },
    {
      "cell_type": "markdown",
      "metadata": {
        "id": "jhSncqYZQKOi"
      },
      "source": [
        "Word objects have a **spellcheck() Word.spellcheck()** , this method that returns a list of (word, confidence) tuples with spelling suggestions."
      ]
    },
    {
      "cell_type": "code",
      "metadata": {
        "id": "CmJqgMABQKOj",
        "outputId": "f03444c1-2995-40f7-d47e-a0684c51e668"
      },
      "source": [
        "from textblob import Word\n",
        "k = Word('longituode')\n",
        "k.spellcheck()"
      ],
      "execution_count": null,
      "outputs": [
        {
          "output_type": "execute_result",
          "data": {
            "text/plain": [
              "[('longitude', 1.0)]"
            ]
          },
          "metadata": {
            "tags": []
          },
          "execution_count": 42
        }
      ]
    },
    {
      "cell_type": "markdown",
      "metadata": {
        "id": "wVZ2y9F2QKOq"
      },
      "source": [
        "This spelling correction is based on the Peter Norvig's \"How to Write a Spelling Corrector\", as implemented in the pattern library. It is about 70% accurate."
      ]
    },
    {
      "cell_type": "markdown",
      "metadata": {
        "id": "2Dj5qCL4QKOr"
      },
      "source": [
        "### Get Word and Noun Phrase Frequencies\n",
        "\n",
        "There are two ways to get the frequency of a word or noun phrase in the **TextBlob**\n",
        "\n",
        "The first one is through the word_counts dictionary."
      ]
    },
    {
      "cell_type": "code",
      "metadata": {
        "id": "fdEGnj73QKOs",
        "outputId": "28bda14e-8e6f-45b1-b7ff-748330db437b"
      },
      "source": [
        "sent = TextBlob('She sales sea shells at the sea shore.')\n",
        "\n",
        "sent.word_counts['sea']"
      ],
      "execution_count": null,
      "outputs": [
        {
          "output_type": "execute_result",
          "data": {
            "text/plain": [
              "2"
            ]
          },
          "metadata": {
            "tags": []
          },
          "execution_count": 44
        }
      ]
    },
    {
      "cell_type": "markdown",
      "metadata": {
        "id": "_K_jD4VgQKOz"
      },
      "source": [
        "If you access the frequencies this way, the search will not be case sensitive, and words that are not found will have a frequency of 0.\n",
        "\n",
        "The second way is to use the count() method."
      ]
    },
    {
      "cell_type": "code",
      "metadata": {
        "id": "SNxBqFhpQKO1",
        "outputId": "c1c00698-1323-4610-d790-17ba00529e54"
      },
      "source": [
        "sent.words.count('sea')"
      ],
      "execution_count": null,
      "outputs": [
        {
          "output_type": "execute_result",
          "data": {
            "text/plain": [
              "2"
            ]
          },
          "metadata": {
            "tags": []
          },
          "execution_count": 46
        }
      ]
    },
    {
      "cell_type": "markdown",
      "metadata": {
        "id": "khi-4xFcQKO7"
      },
      "source": [
        "You can specify whether or not the search should be case-sensitive (default is False)."
      ]
    },
    {
      "cell_type": "code",
      "metadata": {
        "id": "eoZ210_RQKO8",
        "outputId": "eb8a76f2-9567-4706-f659-9566441c53b4"
      },
      "source": [
        "sent.words.count('Sea', case_sensitive=True) "
      ],
      "execution_count": null,
      "outputs": [
        {
          "output_type": "execute_result",
          "data": {
            "text/plain": [
              "0"
            ]
          },
          "metadata": {
            "tags": []
          },
          "execution_count": 49
        }
      ]
    },
    {
      "cell_type": "markdown",
      "metadata": {
        "id": "IJ3CKR96QKPB"
      },
      "source": [
        "In the above example we have given 'Sea' and ofcourse 'Sea' is not available in the sentence, 'Sea' is available in sentence but in lowercase beacause of that it given 0 as a result.\n",
        "\n",
        "Each of these methods can also be used with noun phrases."
      ]
    },
    {
      "cell_type": "code",
      "metadata": {
        "id": "m1BK_H88QKPC",
        "outputId": "9a848d71-090d-4f11-c991-bbcd6d47a958"
      },
      "source": [
        "sent.noun_phrases.count('sea')"
      ],
      "execution_count": null,
      "outputs": [
        {
          "output_type": "execute_result",
          "data": {
            "text/plain": [
              "0"
            ]
          },
          "metadata": {
            "tags": []
          },
          "execution_count": 51
        }
      ]
    },
    {
      "cell_type": "markdown",
      "metadata": {
        "id": "D14RFpIEQKPI"
      },
      "source": [
        "## Translation and Language Detection\n",
        "\n",
        "TextBlobs can be translated between languages."
      ]
    },
    {
      "cell_type": "code",
      "metadata": {
        "id": "4GKzcjSCQKPJ",
        "outputId": "2c09951a-0fc0-4a03-efba-8482b0a8859f"
      },
      "source": [
        "blob = TextBlob(u'Something is better than nothing.')\n",
        "blob.translate(to='hi')"
      ],
      "execution_count": null,
      "outputs": [
        {
          "output_type": "execute_result",
          "data": {
            "text/plain": [
              "TextBlob(\"कुछ नहीं से कुछ भला।\")"
            ]
          },
          "metadata": {
            "tags": []
          },
          "execution_count": 59
        }
      ]
    },
    {
      "cell_type": "markdown",
      "metadata": {
        "id": "eJz6p36pQKPN"
      },
      "source": [
        "If no source language is specified, **TextBlob** will attempt to detect the language. You can specify the source language explicitly, like so. Raises **TranslatorError** if the TextBlob cannot be translated into the requested language or NotTranslated if the translated result is the same as the input string."
      ]
    },
    {
      "cell_type": "code",
      "metadata": {
        "id": "eQggiqfkQKPO",
        "outputId": "f2ee94b9-9080-4bd1-88e3-d67d6049543c"
      },
      "source": [
        "chinese_blob = TextBlob(u\"有总比没有好\")\n",
        "chinese_blob.translate(from_lang=\"zh-CN\", to='en')"
      ],
      "execution_count": null,
      "outputs": [
        {
          "output_type": "execute_result",
          "data": {
            "text/plain": [
              "TextBlob(\"Better than nothing\")"
            ]
          },
          "metadata": {
            "tags": []
          },
          "execution_count": 56
        }
      ]
    },
    {
      "cell_type": "markdown",
      "metadata": {
        "id": "PI-2-OG7QKPT"
      },
      "source": [
        "You can also attempt to detect a TextBlob’s language using **TextBlob.detect_language().**"
      ]
    },
    {
      "cell_type": "code",
      "metadata": {
        "id": "IhePnEhbQKPU",
        "colab": {
          "base_uri": "https://localhost:8080/",
          "height": 180
        },
        "outputId": "f3ac00e2-92a0-4be4-9767-f92bb5e15de2"
      },
      "source": [
        "d = TextBlob(\"कुछ नहीं से कुछ भला\")\n",
        "d.detect_language()"
      ],
      "execution_count": null,
      "outputs": [
        {
          "output_type": "error",
          "ename": "NameError",
          "evalue": "ignored",
          "traceback": [
            "\u001b[0;31m---------------------------------------------------------------------------\u001b[0m",
            "\u001b[0;31mNameError\u001b[0m                                 Traceback (most recent call last)",
            "\u001b[0;32m<ipython-input-1-05b06bd4adaf>\u001b[0m in \u001b[0;36m<module>\u001b[0;34m()\u001b[0m\n\u001b[0;32m----> 1\u001b[0;31m \u001b[0md\u001b[0m \u001b[0;34m=\u001b[0m \u001b[0mTextBlob\u001b[0m\u001b[0;34m(\u001b[0m\u001b[0;34m\"कुछ नहीं से कुछ भला\"\u001b[0m\u001b[0;34m)\u001b[0m\u001b[0;34m\u001b[0m\u001b[0;34m\u001b[0m\u001b[0m\n\u001b[0m\u001b[1;32m      2\u001b[0m \u001b[0md\u001b[0m\u001b[0;34m.\u001b[0m\u001b[0mdetect_language\u001b[0m\u001b[0;34m(\u001b[0m\u001b[0;34m)\u001b[0m\u001b[0;34m\u001b[0m\u001b[0;34m\u001b[0m\u001b[0m\n",
            "\u001b[0;31mNameError\u001b[0m: name 'TextBlob' is not defined"
          ]
        }
      ]
    },
    {
      "cell_type": "markdown",
      "metadata": {
        "id": "Yq6a81HGQKPY"
      },
      "source": [
        "## Parsing\n",
        "\n",
        "Use the **parse()** method to parse the text."
      ]
    },
    {
      "cell_type": "code",
      "metadata": {
        "id": "30X1jW04QKPY",
        "outputId": "f615a18c-cf28-4707-a979-d4fe6bb8beb8"
      },
      "source": [
        "b = TextBlob(\"And now for something completely different.\")\n",
        "print(b.parse())"
      ],
      "execution_count": null,
      "outputs": [
        {
          "output_type": "stream",
          "text": [
            "And/CC/O/O now/RB/B-ADVP/O for/IN/B-PP/B-PNP something/NN/B-NP/I-PNP completely/RB/B-ADJP/O different/JJ/I-ADJP/O ././O/O\n"
          ],
          "name": "stdout"
        }
      ]
    },
    {
      "cell_type": "markdown",
      "metadata": {
        "id": "T_mJncpOQKPc"
      },
      "source": [
        "By default, TextBlob uses pattern’s parser"
      ]
    },
    {
      "cell_type": "markdown",
      "metadata": {
        "id": "CpeMr6tmQKPd"
      },
      "source": [
        "### TextBlobs Are Like Python Strings!\n",
        "\n",
        "You can use Python’s substring syntax."
      ]
    },
    {
      "cell_type": "code",
      "metadata": {
        "id": "F_7lVMQ3QKPe",
        "outputId": "3d63152d-4dd4-424d-aacf-0d22b9739b39"
      },
      "source": [
        "zen[0:15]"
      ],
      "execution_count": null,
      "outputs": [
        {
          "output_type": "execute_result",
          "data": {
            "text/plain": [
              "TextBlob(\"Data is a new f\")"
            ]
          },
          "metadata": {
            "tags": []
          },
          "execution_count": 68
        }
      ]
    },
    {
      "cell_type": "markdown",
      "metadata": {
        "id": "cssRaSNqQKPi"
      },
      "source": [
        "We can use it as common string method."
      ]
    },
    {
      "cell_type": "code",
      "metadata": {
        "id": "u2EW2wvFQKPj",
        "outputId": "64690a2a-0845-4555-aedf-7d0f49204fd4"
      },
      "source": [
        "zen.upper()"
      ],
      "execution_count": null,
      "outputs": [
        {
          "output_type": "execute_result",
          "data": {
            "text/plain": [
              "TextBlob(\"DATA IS A NEW FUEL. EXPLICIT IS BETTER THAN IMPLICIT. SIMPLE IS BETTER THAN COMPLEX. \")"
            ]
          },
          "metadata": {
            "tags": []
          },
          "execution_count": 69
        }
      ]
    },
    {
      "cell_type": "code",
      "metadata": {
        "id": "VOsB0BUcQKPo",
        "outputId": "91e94abf-8bbe-4782-f058-53c2e427e78c"
      },
      "source": [
        "zen.find('than') #It shows that 'than' word starts from 39th place."
      ],
      "execution_count": null,
      "outputs": [
        {
          "output_type": "execute_result",
          "data": {
            "text/plain": [
              "39"
            ]
          },
          "metadata": {
            "tags": []
          },
          "execution_count": 72
        }
      ]
    },
    {
      "cell_type": "markdown",
      "metadata": {
        "id": "_m6kJFaYQKPs"
      },
      "source": [
        "You can make comparisons between TextBlobs and strings."
      ]
    },
    {
      "cell_type": "code",
      "metadata": {
        "id": "Nqa68tNlQKPs",
        "outputId": "b686bf77-e600-4816-d099-6fe7c98f6e81"
      },
      "source": [
        "a_blob = TextBlob('apple')\n",
        "s_blob = TextBlob('samsumg')\n",
        "\n",
        "a_blob < s_blob"
      ],
      "execution_count": null,
      "outputs": [
        {
          "output_type": "execute_result",
          "data": {
            "text/plain": [
              "True"
            ]
          },
          "metadata": {
            "tags": []
          },
          "execution_count": 73
        }
      ]
    },
    {
      "cell_type": "code",
      "metadata": {
        "id": "6Q2sxWObQKPx",
        "outputId": "f52ca2e4-154b-4d30-c274-04599b5a6ddc"
      },
      "source": [
        "a_blob == 'apple'"
      ],
      "execution_count": null,
      "outputs": [
        {
          "output_type": "execute_result",
          "data": {
            "text/plain": [
              "True"
            ]
          },
          "metadata": {
            "tags": []
          },
          "execution_count": 76
        }
      ]
    },
    {
      "cell_type": "markdown",
      "metadata": {
        "id": "kVRa57akQKP0"
      },
      "source": [
        "You can concatenate and interpolate TextBlobs and strings."
      ]
    },
    {
      "cell_type": "code",
      "metadata": {
        "id": "bNgVS0mAQKP1",
        "outputId": "05634fc3-9a3a-4bcf-926d-d59d5dd76798"
      },
      "source": [
        "a_blob + ' and ' + s_blob"
      ],
      "execution_count": null,
      "outputs": [
        {
          "output_type": "execute_result",
          "data": {
            "text/plain": [
              "TextBlob(\"apple and samsumg\")"
            ]
          },
          "metadata": {
            "tags": []
          },
          "execution_count": 77
        }
      ]
    },
    {
      "cell_type": "code",
      "metadata": {
        "id": "yU2lh9IVQKP4",
        "outputId": "63fd1e50-99f6-4936-f37f-436688c39cb7"
      },
      "source": [
        "\"{0} and {1}\".format(a_blob,s_blob)"
      ],
      "execution_count": null,
      "outputs": [
        {
          "output_type": "execute_result",
          "data": {
            "text/plain": [
              "'apple and samsumg'"
            ]
          },
          "metadata": {
            "tags": []
          },
          "execution_count": 78
        }
      ]
    },
    {
      "cell_type": "markdown",
      "metadata": {
        "id": "SMtYkGwAQKP-"
      },
      "source": [
        "### n-grams\n",
        "\n",
        "The **TextBlob.ngrams()** method returns a list of tuples of n successive words."
      ]
    },
    {
      "cell_type": "code",
      "metadata": {
        "id": "ZuN-BrzCQKP-",
        "outputId": "73282e4f-6087-4c5b-dcda-304b030c891e"
      },
      "source": [
        "blob = TextBlob(\"Now is better than never.\")\n",
        "blob.ngrams(n=3)"
      ],
      "execution_count": null,
      "outputs": [
        {
          "output_type": "execute_result",
          "data": {
            "text/plain": [
              "[WordList(['Now', 'is', 'better']),\n",
              " WordList(['is', 'better', 'than']),\n",
              " WordList(['better', 'than', 'never'])]"
            ]
          },
          "metadata": {
            "tags": []
          },
          "execution_count": 80
        }
      ]
    },
    {
      "cell_type": "markdown",
      "metadata": {
        "id": "hnnZswO5QKQH"
      },
      "source": [
        "### Get Start and End Indices of Sentences\n",
        "\n",
        "Use sentence.start and sentence.end to get the indices where a sentence starts and ends within a **TextBlob.**"
      ]
    },
    {
      "cell_type": "code",
      "metadata": {
        "id": "DDATxZ_pQKQH",
        "outputId": "1906d1bd-d345-46b3-ee1c-cfb4cacb0397"
      },
      "source": [
        "for k in zen.sentences:\n",
        "    print(k)\n",
        "    print(\"---- Starts at index {}, Ends at index {}\".format(k.start, k.end))"
      ],
      "execution_count": null,
      "outputs": [
        {
          "output_type": "stream",
          "text": [
            "Data is a new fuel.\n",
            "---- Starts at index 0, Ends at index 19\n",
            "Explicit is better than implicit.\n",
            "---- Starts at index 20, Ends at index 53\n",
            "Simple is better than complex.\n",
            "---- Starts at index 54, Ends at index 84\n"
          ],
          "name": "stdout"
        }
      ]
    },
    {
      "cell_type": "code",
      "metadata": {
        "id": "YveE9hXUQKQL"
      },
      "source": [
        ""
      ],
      "execution_count": null,
      "outputs": []
    },
    {
      "cell_type": "markdown",
      "metadata": {
        "id": "69M6q3ZiQKQO"
      },
      "source": [
        "# Let's start building the Text Classification system\n",
        "\n",
        "The __textblob.classifiers__ module makes it simple to create custom classifiers.\n",
        "\n",
        "As an example, let’s create a custom sentiment analyzer.\n",
        "\n",
        "## Loading Data and Creating a Classifier\n",
        "\n",
        "First we’ll create some training and test data."
      ]
    },
    {
      "cell_type": "code",
      "metadata": {
        "id": "_CFD0l2MQKQO"
      },
      "source": [
        "train = [\n",
        "     ('I love this sandwich.', 'pos'),\n",
        "     ('this is an amazing place!', 'pos'),\n",
        "     ('I feel very good about these beers.', 'pos'),\n",
        "     ('this is my best work.', 'pos'),\n",
        "     (\"what an awesome view\", 'pos'),\n",
        "     ('I do not like this restaurant', 'neg'),\n",
        "     ('I am tired of this stuff.', 'neg'),\n",
        "     (\"I can't deal with this\", 'neg'),\n",
        "     ('he is my sworn enemy!', 'neg'),\n",
        "     ('my boss is horrible.', 'neg')\n",
        "]\n",
        "\n",
        "test = [\n",
        "     ('the beer was good.', 'pos'),\n",
        "     ('I do not enjoy my job', 'neg'),\n",
        "     (\"I ain't feeling dandy today.\", 'neg'),\n",
        "     (\"I feel amazing!\", 'pos'),\n",
        "     ('Gary is a friend of mine.', 'pos'),\n",
        "     (\"I can't believe I'm doing this.\", 'neg')\n",
        "]"
      ],
      "execution_count": null,
      "outputs": []
    },
    {
      "cell_type": "markdown",
      "metadata": {
        "id": "BG4Uq_NOQKQR"
      },
      "source": [
        "Now we’ll create a Naive Bayes classifier, passing the training data into the constructor."
      ]
    },
    {
      "cell_type": "code",
      "metadata": {
        "id": "wsxKUQg7QKQS"
      },
      "source": [
        "from textblob.classifiers import NaiveBayesClassifier\n",
        "cl = NaiveBayesClassifier(train)"
      ],
      "execution_count": null,
      "outputs": []
    },
    {
      "cell_type": "markdown",
      "metadata": {
        "id": "OGQs8DANQKQU"
      },
      "source": [
        "### Loading Data from Files\n",
        "\n",
        "You can also load data from common file formats including CSV, JSON, and TSV.\n",
        "\n",
        "CSV files should be formatted like so:\n",
        "\n",
        "      I love this sandwich.,pos\n",
        "      This is an amazing place!,pos\n",
        "      I do not like this restaurant,neg\n",
        "      \n",
        "JSON files should be formatted like so:\n",
        "\n",
        "[\n",
        "    {\"text\": \"I love this sandwich.\", \"label\": \"pos\"},\n",
        "    {\"text\": \"This is an amazing place!\", \"label\": \"pos\"},\n",
        "    {\"text\": \"I do not like this restaurant\", \"label\": \"neg\"}\n",
        "]\n",
        "\n",
        "You can then pass the opened file into the constructor."
      ]
    },
    {
      "cell_type": "code",
      "metadata": {
        "id": "yDZ77VljQKQV"
      },
      "source": [
        "with open('train.json', 'r') as fp:\n",
        "    cl = NaiveBayesClassifier(fp, format=\"json\")"
      ],
      "execution_count": null,
      "outputs": []
    },
    {
      "cell_type": "markdown",
      "metadata": {
        "id": "oAS7BozlQKQY"
      },
      "source": [
        "## Classifying Text\n",
        "\n",
        "Call the *classify(text)* method to use the classifier."
      ]
    },
    {
      "cell_type": "code",
      "metadata": {
        "id": "lu0TgluYQKQY",
        "outputId": "39d2890f-843b-4cd4-ed39-ca0d66069d03"
      },
      "source": [
        "cl.classify(\"This is an amazing library!\")"
      ],
      "execution_count": null,
      "outputs": [
        {
          "output_type": "execute_result",
          "data": {
            "text/plain": [
              "'pos'"
            ]
          },
          "metadata": {
            "tags": []
          },
          "execution_count": 94
        }
      ]
    },
    {
      "cell_type": "markdown",
      "metadata": {
        "id": "hB9XwmtIQKQc"
      },
      "source": [
        "You can get the label probability distribution with the *prob_classify(text)* method."
      ]
    },
    {
      "cell_type": "code",
      "metadata": {
        "id": "EKx9oUi1QKQc",
        "outputId": "cee23309-aaac-4f9f-d4ca-f7af91ea8999"
      },
      "source": [
        "prob_dist = cl.prob_classify(\"I am suffering from cough and cold.\")\n",
        "prob_dist.max()"
      ],
      "execution_count": null,
      "outputs": [
        {
          "output_type": "execute_result",
          "data": {
            "text/plain": [
              "'neg'"
            ]
          },
          "metadata": {
            "tags": []
          },
          "execution_count": 96
        }
      ]
    },
    {
      "cell_type": "code",
      "metadata": {
        "id": "IWq0gWy-QKQg",
        "outputId": "faab3a5c-66dd-45c1-bd47-d5c9c1296c0b"
      },
      "source": [
        "round(prob_dist.prob(\"neg\"), 2)"
      ],
      "execution_count": null,
      "outputs": [
        {
          "output_type": "execute_result",
          "data": {
            "text/plain": [
              "0.71"
            ]
          },
          "metadata": {
            "tags": []
          },
          "execution_count": 97
        }
      ]
    },
    {
      "cell_type": "code",
      "metadata": {
        "id": "4k7JFNl1QKQk",
        "outputId": "49a3a4ed-6f52-4c25-81c5-cff1f5164c65"
      },
      "source": [
        "round(prob_dist.prob(\"pos\"), 2)"
      ],
      "execution_count": null,
      "outputs": [
        {
          "output_type": "execute_result",
          "data": {
            "text/plain": [
              "0.29"
            ]
          },
          "metadata": {
            "tags": []
          },
          "execution_count": 98
        }
      ]
    },
    {
      "cell_type": "markdown",
      "metadata": {
        "id": "bvYklUK-QKQn"
      },
      "source": [
        "## Classifying TextBlobs\n",
        "\n",
        "Another way to classify text is to pass a classifier into the constructor of TextBlob and call its *classify()* method."
      ]
    },
    {
      "cell_type": "code",
      "metadata": {
        "id": "7e3ULcfbQKQp",
        "outputId": "5c2bcb15-4e11-44c3-a6af-69b899a376c2"
      },
      "source": [
        "from textblob import TextBlob\n",
        "blob = TextBlob(\"Alcohol is good. But the hangover is horrible.\", classifier=cl)\n",
        "blob.classify()"
      ],
      "execution_count": null,
      "outputs": [
        {
          "output_type": "execute_result",
          "data": {
            "text/plain": [
              "'pos'"
            ]
          },
          "metadata": {
            "tags": []
          },
          "execution_count": 104
        }
      ]
    },
    {
      "cell_type": "markdown",
      "metadata": {
        "id": "APw8oYu5QKQt"
      },
      "source": [
        "The advantage of this approach is that you can classify sentences within a **TextBlob**."
      ]
    },
    {
      "cell_type": "code",
      "metadata": {
        "id": "ucUCmz73QKQu",
        "outputId": "a3353f6e-e6f8-424d-acf6-902342c617bb"
      },
      "source": [
        "for b in blob.sentences:\n",
        "    print(b)\n",
        "    print(b.classify())"
      ],
      "execution_count": null,
      "outputs": [
        {
          "output_type": "stream",
          "text": [
            "Alcohol is good.\n",
            "pos\n",
            "But the hangover is horrible.\n",
            "pos\n"
          ],
          "name": "stdout"
        }
      ]
    },
    {
      "cell_type": "markdown",
      "metadata": {
        "id": "W27Z68BkQKQw"
      },
      "source": [
        "## Evaluating Classifiers\n",
        "\n",
        "To compute the accuracy on our test set, use the **accuracy(test_data)** method."
      ]
    },
    {
      "cell_type": "code",
      "metadata": {
        "id": "6CMtlYPjQKQx",
        "outputId": "5428e5e4-d956-40ed-f88c-0f934e5658aa"
      },
      "source": [
        "cl.accuracy(test)"
      ],
      "execution_count": null,
      "outputs": [
        {
          "output_type": "execute_result",
          "data": {
            "text/plain": [
              "1.0"
            ]
          },
          "metadata": {
            "tags": []
          },
          "execution_count": 107
        }
      ]
    },
    {
      "cell_type": "markdown",
      "metadata": {
        "id": "ZAaPteaVQKQy"
      },
      "source": [
        "Use the show_informative_features() method to display a listing of the most informative features."
      ]
    },
    {
      "cell_type": "code",
      "metadata": {
        "id": "rpJtvWqPQKQz",
        "outputId": "43cc4a7c-ba86-497f-cde1-eb125dd2b2de"
      },
      "source": [
        "cl.show_informative_features(5)"
      ],
      "execution_count": null,
      "outputs": [
        {
          "output_type": "stream",
          "text": [
            "Most Informative Features\n",
            "             contains(I) = False             pos : neg    =      1.9 : 1.0\n",
            "          contains(this) = False             pos : neg    =      1.9 : 1.0\n",
            "             contains(I) = True              neg : pos    =      1.7 : 1.0\n",
            "          contains(this) = True              neg : pos    =      1.7 : 1.0\n",
            "            contains(an) = False             neg : pos    =      1.5 : 1.0\n"
          ],
          "name": "stdout"
        }
      ]
    },
    {
      "cell_type": "markdown",
      "metadata": {
        "id": "UeHCkjoQQKQ1"
      },
      "source": [
        "## Updating Classifiers with New Data\n",
        "\n",
        "Use the update(new_data) method to update a classifier with new training data."
      ]
    },
    {
      "cell_type": "code",
      "metadata": {
        "id": "GV3DiM20QKQ2",
        "outputId": "f44bf960-fc29-4abd-c8de-7ecd8c81b83c"
      },
      "source": [
        "new_data = [('She is my best friend.', 'pos'),\n",
        "           (\"I'm happy to have a new friend.\", 'pos'),\n",
        "           (\"Stay thirsty, my friend.\", 'pos'),             \n",
        "           (\"He ain't from around here.\", 'neg')]\n",
        "\n",
        "cl.update(new_data)"
      ],
      "execution_count": null,
      "outputs": [
        {
          "output_type": "execute_result",
          "data": {
            "text/plain": [
              "True"
            ]
          },
          "metadata": {
            "tags": []
          },
          "execution_count": 109
        }
      ]
    },
    {
      "cell_type": "code",
      "metadata": {
        "id": "TqJdhXs0QKQ6",
        "outputId": "6c806b4f-310f-44b5-94fc-35e2594d2520"
      },
      "source": [
        "cl.accuracy(test)"
      ],
      "execution_count": null,
      "outputs": [
        {
          "output_type": "execute_result",
          "data": {
            "text/plain": [
              "1.0"
            ]
          },
          "metadata": {
            "tags": []
          },
          "execution_count": 110
        }
      ]
    },
    {
      "cell_type": "markdown",
      "metadata": {
        "id": "2PgFtvYMQKQ8"
      },
      "source": [
        "## Feature Extractors\n",
        "\n",
        "By default, the *NaiveBayesClassifier* uses a simple feature extractor that indicates which words in the training set are contained in a document.\n",
        "\n",
        "For example, the sentence “I love” might have the features contains(love): True or contains(hate): False.\n",
        "\n",
        "You can override this feature extractor by writing your own. A feature extractor is simply a function with document (the text to extract features from) as the first argument. The function may include a second argument, train_set (the training dataset), if necessary.\n",
        "\n",
        "The function should return a dictionary of features for document.\n",
        "\n",
        "For example, let’s create a feature extractor that just uses the first and last words of a document as its features."
      ]
    },
    {
      "cell_type": "code",
      "metadata": {
        "id": "1sxCt5XtQKQ8"
      },
      "source": [
        "def end_word_extractor(document):\n",
        "    tokens = document.split()\n",
        "    first_word, last_word = tokens[0], tokens[-1]\n",
        "    feats = {}\n",
        "    feats[\"first({0})\".format(first_word)] = True\n",
        "    feats[\"last({0})\".format(last_word)] = False\n",
        "    return feats"
      ],
      "execution_count": null,
      "outputs": []
    },
    {
      "cell_type": "code",
      "metadata": {
        "id": "Fc5e7Z8tQKQ_"
      },
      "source": [
        "features = end_word_extractor(\"I love\")"
      ],
      "execution_count": null,
      "outputs": []
    },
    {
      "cell_type": "code",
      "metadata": {
        "id": "PXnd2mCKQKRB"
      },
      "source": [
        "assert features == {'last(love)': False, 'first(I)': True}"
      ],
      "execution_count": null,
      "outputs": []
    },
    {
      "cell_type": "markdown",
      "metadata": {
        "id": "uxtWI7GYQKRD"
      },
      "source": [
        "We can then use the feature extractor in a classifier by passing it as the second argument of the constructor."
      ]
    },
    {
      "cell_type": "code",
      "metadata": {
        "id": "PysXp3LmQKRD"
      },
      "source": [
        "cl2 = NaiveBayesClassifier(test, feature_extractor=end_word_extractor)"
      ],
      "execution_count": null,
      "outputs": []
    },
    {
      "cell_type": "code",
      "metadata": {
        "id": "JAPIF0yOQKRF",
        "outputId": "65b43e4a-35df-4e78-aca8-2ca5933bc9b5"
      },
      "source": [
        "blob = TextBlob(\"I'm excited to try my new classifier.\", classifier=cl2)\n",
        "blob.classify()"
      ],
      "execution_count": null,
      "outputs": [
        {
          "output_type": "execute_result",
          "data": {
            "text/plain": [
              "'pos'"
            ]
          },
          "metadata": {
            "tags": []
          },
          "execution_count": 118
        }
      ]
    },
    {
      "cell_type": "code",
      "metadata": {
        "id": "P7Z4ZvG6QKRG"
      },
      "source": [
        ""
      ],
      "execution_count": null,
      "outputs": []
    },
    {
      "cell_type": "code",
      "metadata": {
        "id": "aecvkIKGQKRI"
      },
      "source": [
        ""
      ],
      "execution_count": null,
      "outputs": []
    },
    {
      "cell_type": "markdown",
      "metadata": {
        "id": "LdYVjZOcQKRK"
      },
      "source": [
        "Credits: [link]('https://textblob.readthedocs.io/en/dev/classifiers.html')"
      ]
    },
    {
      "cell_type": "code",
      "metadata": {
        "id": "T11sRig4QKRK"
      },
      "source": [
        ""
      ],
      "execution_count": null,
      "outputs": []
    }
  ]
}