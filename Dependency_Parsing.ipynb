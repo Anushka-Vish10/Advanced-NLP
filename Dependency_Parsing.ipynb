{
  "nbformat": 4,
  "nbformat_minor": 0,
  "metadata": {
    "colab": {
      "name": "Dependency Parsing.ipynb",
      "provenance": []
    },
    "kernelspec": {
      "name": "python3",
      "display_name": "Python 3"
    },
    "language_info": {
      "name": "python"
    },
    "widgets": {
      "application/vnd.jupyter.widget-state+json": {
        "798f438d521049bf9e93284cd115ece4": {
          "model_module": "@jupyter-widgets/controls",
          "model_name": "HBoxModel",
          "model_module_version": "1.5.0",
          "state": {
            "_view_name": "HBoxView",
            "_dom_classes": [],
            "_model_name": "HBoxModel",
            "_view_module": "@jupyter-widgets/controls",
            "_model_module_version": "1.5.0",
            "_view_count": null,
            "_view_module_version": "1.5.0",
            "box_style": "",
            "layout": "IPY_MODEL_5f4a6601e2fc4822ba27ee8fd1ba6f1c",
            "_model_module": "@jupyter-widgets/controls",
            "children": [
              "IPY_MODEL_4a6618c29dbe48ee9bece6d862dbd7fc",
              "IPY_MODEL_ac482d26ea3d44a78ecad0e6b74e6917",
              "IPY_MODEL_0b500cd29966429fb9e23b7e8e62cb40"
            ]
          }
        },
        "5f4a6601e2fc4822ba27ee8fd1ba6f1c": {
          "model_module": "@jupyter-widgets/base",
          "model_name": "LayoutModel",
          "model_module_version": "1.2.0",
          "state": {
            "_view_name": "LayoutView",
            "grid_template_rows": null,
            "right": null,
            "justify_content": null,
            "_view_module": "@jupyter-widgets/base",
            "overflow": null,
            "_model_module_version": "1.2.0",
            "_view_count": null,
            "flex_flow": null,
            "width": null,
            "min_width": null,
            "border": null,
            "align_items": null,
            "bottom": null,
            "_model_module": "@jupyter-widgets/base",
            "top": null,
            "grid_column": null,
            "overflow_y": null,
            "overflow_x": null,
            "grid_auto_flow": null,
            "grid_area": null,
            "grid_template_columns": null,
            "flex": null,
            "_model_name": "LayoutModel",
            "justify_items": null,
            "grid_row": null,
            "max_height": null,
            "align_content": null,
            "visibility": null,
            "align_self": null,
            "height": null,
            "min_height": null,
            "padding": null,
            "grid_auto_rows": null,
            "grid_gap": null,
            "max_width": null,
            "order": null,
            "_view_module_version": "1.2.0",
            "grid_template_areas": null,
            "object_position": null,
            "object_fit": null,
            "grid_auto_columns": null,
            "margin": null,
            "display": null,
            "left": null
          }
        },
        "4a6618c29dbe48ee9bece6d862dbd7fc": {
          "model_module": "@jupyter-widgets/controls",
          "model_name": "HTMLModel",
          "model_module_version": "1.5.0",
          "state": {
            "_view_name": "HTMLView",
            "style": "IPY_MODEL_64a57b2f49a140f08daf6a25918e028a",
            "_dom_classes": [],
            "description": "",
            "_model_name": "HTMLModel",
            "placeholder": "​",
            "_view_module": "@jupyter-widgets/controls",
            "_model_module_version": "1.5.0",
            "value": "Downloading https://raw.githubusercontent.com/stanfordnlp/stanza-resources/main/resources_1.2.2.json: ",
            "_view_count": null,
            "_view_module_version": "1.5.0",
            "description_tooltip": null,
            "_model_module": "@jupyter-widgets/controls",
            "layout": "IPY_MODEL_5f2fe67ead8947709c44b33d3f03285e"
          }
        },
        "ac482d26ea3d44a78ecad0e6b74e6917": {
          "model_module": "@jupyter-widgets/controls",
          "model_name": "FloatProgressModel",
          "model_module_version": "1.5.0",
          "state": {
            "_view_name": "ProgressView",
            "style": "IPY_MODEL_d7af3b8946654bddb1a95f88166f15be",
            "_dom_classes": [],
            "description": "",
            "_model_name": "FloatProgressModel",
            "bar_style": "success",
            "max": 24144,
            "_view_module": "@jupyter-widgets/controls",
            "_model_module_version": "1.5.0",
            "value": 24144,
            "_view_count": null,
            "_view_module_version": "1.5.0",
            "orientation": "horizontal",
            "min": 0,
            "description_tooltip": null,
            "_model_module": "@jupyter-widgets/controls",
            "layout": "IPY_MODEL_71445d6fc0284e898996ce9551de5897"
          }
        },
        "0b500cd29966429fb9e23b7e8e62cb40": {
          "model_module": "@jupyter-widgets/controls",
          "model_name": "HTMLModel",
          "model_module_version": "1.5.0",
          "state": {
            "_view_name": "HTMLView",
            "style": "IPY_MODEL_72d9c4b3235642beb923d0ed2faf8bf9",
            "_dom_classes": [],
            "description": "",
            "_model_name": "HTMLModel",
            "placeholder": "​",
            "_view_module": "@jupyter-widgets/controls",
            "_model_module_version": "1.5.0",
            "value": " 140k/? [00:00&lt;00:00, 2.92MB/s]",
            "_view_count": null,
            "_view_module_version": "1.5.0",
            "description_tooltip": null,
            "_model_module": "@jupyter-widgets/controls",
            "layout": "IPY_MODEL_2d71a2d2e3564ac289d4e255f46cccb2"
          }
        },
        "64a57b2f49a140f08daf6a25918e028a": {
          "model_module": "@jupyter-widgets/controls",
          "model_name": "DescriptionStyleModel",
          "model_module_version": "1.5.0",
          "state": {
            "_view_name": "StyleView",
            "_model_name": "DescriptionStyleModel",
            "description_width": "",
            "_view_module": "@jupyter-widgets/base",
            "_model_module_version": "1.5.0",
            "_view_count": null,
            "_view_module_version": "1.2.0",
            "_model_module": "@jupyter-widgets/controls"
          }
        },
        "5f2fe67ead8947709c44b33d3f03285e": {
          "model_module": "@jupyter-widgets/base",
          "model_name": "LayoutModel",
          "model_module_version": "1.2.0",
          "state": {
            "_view_name": "LayoutView",
            "grid_template_rows": null,
            "right": null,
            "justify_content": null,
            "_view_module": "@jupyter-widgets/base",
            "overflow": null,
            "_model_module_version": "1.2.0",
            "_view_count": null,
            "flex_flow": null,
            "width": null,
            "min_width": null,
            "border": null,
            "align_items": null,
            "bottom": null,
            "_model_module": "@jupyter-widgets/base",
            "top": null,
            "grid_column": null,
            "overflow_y": null,
            "overflow_x": null,
            "grid_auto_flow": null,
            "grid_area": null,
            "grid_template_columns": null,
            "flex": null,
            "_model_name": "LayoutModel",
            "justify_items": null,
            "grid_row": null,
            "max_height": null,
            "align_content": null,
            "visibility": null,
            "align_self": null,
            "height": null,
            "min_height": null,
            "padding": null,
            "grid_auto_rows": null,
            "grid_gap": null,
            "max_width": null,
            "order": null,
            "_view_module_version": "1.2.0",
            "grid_template_areas": null,
            "object_position": null,
            "object_fit": null,
            "grid_auto_columns": null,
            "margin": null,
            "display": null,
            "left": null
          }
        },
        "d7af3b8946654bddb1a95f88166f15be": {
          "model_module": "@jupyter-widgets/controls",
          "model_name": "ProgressStyleModel",
          "model_module_version": "1.5.0",
          "state": {
            "_view_name": "StyleView",
            "_model_name": "ProgressStyleModel",
            "description_width": "",
            "_view_module": "@jupyter-widgets/base",
            "_model_module_version": "1.5.0",
            "_view_count": null,
            "_view_module_version": "1.2.0",
            "bar_color": null,
            "_model_module": "@jupyter-widgets/controls"
          }
        },
        "71445d6fc0284e898996ce9551de5897": {
          "model_module": "@jupyter-widgets/base",
          "model_name": "LayoutModel",
          "model_module_version": "1.2.0",
          "state": {
            "_view_name": "LayoutView",
            "grid_template_rows": null,
            "right": null,
            "justify_content": null,
            "_view_module": "@jupyter-widgets/base",
            "overflow": null,
            "_model_module_version": "1.2.0",
            "_view_count": null,
            "flex_flow": null,
            "width": null,
            "min_width": null,
            "border": null,
            "align_items": null,
            "bottom": null,
            "_model_module": "@jupyter-widgets/base",
            "top": null,
            "grid_column": null,
            "overflow_y": null,
            "overflow_x": null,
            "grid_auto_flow": null,
            "grid_area": null,
            "grid_template_columns": null,
            "flex": null,
            "_model_name": "LayoutModel",
            "justify_items": null,
            "grid_row": null,
            "max_height": null,
            "align_content": null,
            "visibility": null,
            "align_self": null,
            "height": null,
            "min_height": null,
            "padding": null,
            "grid_auto_rows": null,
            "grid_gap": null,
            "max_width": null,
            "order": null,
            "_view_module_version": "1.2.0",
            "grid_template_areas": null,
            "object_position": null,
            "object_fit": null,
            "grid_auto_columns": null,
            "margin": null,
            "display": null,
            "left": null
          }
        },
        "72d9c4b3235642beb923d0ed2faf8bf9": {
          "model_module": "@jupyter-widgets/controls",
          "model_name": "DescriptionStyleModel",
          "model_module_version": "1.5.0",
          "state": {
            "_view_name": "StyleView",
            "_model_name": "DescriptionStyleModel",
            "description_width": "",
            "_view_module": "@jupyter-widgets/base",
            "_model_module_version": "1.5.0",
            "_view_count": null,
            "_view_module_version": "1.2.0",
            "_model_module": "@jupyter-widgets/controls"
          }
        },
        "2d71a2d2e3564ac289d4e255f46cccb2": {
          "model_module": "@jupyter-widgets/base",
          "model_name": "LayoutModel",
          "model_module_version": "1.2.0",
          "state": {
            "_view_name": "LayoutView",
            "grid_template_rows": null,
            "right": null,
            "justify_content": null,
            "_view_module": "@jupyter-widgets/base",
            "overflow": null,
            "_model_module_version": "1.2.0",
            "_view_count": null,
            "flex_flow": null,
            "width": null,
            "min_width": null,
            "border": null,
            "align_items": null,
            "bottom": null,
            "_model_module": "@jupyter-widgets/base",
            "top": null,
            "grid_column": null,
            "overflow_y": null,
            "overflow_x": null,
            "grid_auto_flow": null,
            "grid_area": null,
            "grid_template_columns": null,
            "flex": null,
            "_model_name": "LayoutModel",
            "justify_items": null,
            "grid_row": null,
            "max_height": null,
            "align_content": null,
            "visibility": null,
            "align_self": null,
            "height": null,
            "min_height": null,
            "padding": null,
            "grid_auto_rows": null,
            "grid_gap": null,
            "max_width": null,
            "order": null,
            "_view_module_version": "1.2.0",
            "grid_template_areas": null,
            "object_position": null,
            "object_fit": null,
            "grid_auto_columns": null,
            "margin": null,
            "display": null,
            "left": null
          }
        },
        "109a457d0e294344a23d88f017a2ba5d": {
          "model_module": "@jupyter-widgets/controls",
          "model_name": "HBoxModel",
          "model_module_version": "1.5.0",
          "state": {
            "_view_name": "HBoxView",
            "_dom_classes": [],
            "_model_name": "HBoxModel",
            "_view_module": "@jupyter-widgets/controls",
            "_model_module_version": "1.5.0",
            "_view_count": null,
            "_view_module_version": "1.5.0",
            "box_style": "",
            "layout": "IPY_MODEL_d4941948ef3a412a8604d037f907b10a",
            "_model_module": "@jupyter-widgets/controls",
            "children": [
              "IPY_MODEL_269c5e09b06c4389bd9c0d844ef6fefa",
              "IPY_MODEL_ba967219c92d4852a8a56eac3590c0bf",
              "IPY_MODEL_70b447524b9944f18bdd840e421a988f"
            ]
          }
        },
        "d4941948ef3a412a8604d037f907b10a": {
          "model_module": "@jupyter-widgets/base",
          "model_name": "LayoutModel",
          "model_module_version": "1.2.0",
          "state": {
            "_view_name": "LayoutView",
            "grid_template_rows": null,
            "right": null,
            "justify_content": null,
            "_view_module": "@jupyter-widgets/base",
            "overflow": null,
            "_model_module_version": "1.2.0",
            "_view_count": null,
            "flex_flow": null,
            "width": null,
            "min_width": null,
            "border": null,
            "align_items": null,
            "bottom": null,
            "_model_module": "@jupyter-widgets/base",
            "top": null,
            "grid_column": null,
            "overflow_y": null,
            "overflow_x": null,
            "grid_auto_flow": null,
            "grid_area": null,
            "grid_template_columns": null,
            "flex": null,
            "_model_name": "LayoutModel",
            "justify_items": null,
            "grid_row": null,
            "max_height": null,
            "align_content": null,
            "visibility": null,
            "align_self": null,
            "height": null,
            "min_height": null,
            "padding": null,
            "grid_auto_rows": null,
            "grid_gap": null,
            "max_width": null,
            "order": null,
            "_view_module_version": "1.2.0",
            "grid_template_areas": null,
            "object_position": null,
            "object_fit": null,
            "grid_auto_columns": null,
            "margin": null,
            "display": null,
            "left": null
          }
        },
        "269c5e09b06c4389bd9c0d844ef6fefa": {
          "model_module": "@jupyter-widgets/controls",
          "model_name": "HTMLModel",
          "model_module_version": "1.5.0",
          "state": {
            "_view_name": "HTMLView",
            "style": "IPY_MODEL_d6c54bd162094c1f8835bd257ff8f437",
            "_dom_classes": [],
            "description": "",
            "_model_name": "HTMLModel",
            "placeholder": "​",
            "_view_module": "@jupyter-widgets/controls",
            "_model_module_version": "1.5.0",
            "value": "Downloading http://nlp.stanford.edu/software/stanza/1.2.2/en/default.zip: 100%",
            "_view_count": null,
            "_view_module_version": "1.5.0",
            "description_tooltip": null,
            "_model_module": "@jupyter-widgets/controls",
            "layout": "IPY_MODEL_a5f99806a55b49bdb22f3c8664620cb9"
          }
        },
        "ba967219c92d4852a8a56eac3590c0bf": {
          "model_module": "@jupyter-widgets/controls",
          "model_name": "FloatProgressModel",
          "model_module_version": "1.5.0",
          "state": {
            "_view_name": "ProgressView",
            "style": "IPY_MODEL_ef6856651ba04c69a8ac5dcba413e3c8",
            "_dom_classes": [],
            "description": "",
            "_model_name": "FloatProgressModel",
            "bar_style": "success",
            "max": 411784510,
            "_view_module": "@jupyter-widgets/controls",
            "_model_module_version": "1.5.0",
            "value": 411784510,
            "_view_count": null,
            "_view_module_version": "1.5.0",
            "orientation": "horizontal",
            "min": 0,
            "description_tooltip": null,
            "_model_module": "@jupyter-widgets/controls",
            "layout": "IPY_MODEL_cd2a7ea2e6494e3dae0902887f04dde9"
          }
        },
        "70b447524b9944f18bdd840e421a988f": {
          "model_module": "@jupyter-widgets/controls",
          "model_name": "HTMLModel",
          "model_module_version": "1.5.0",
          "state": {
            "_view_name": "HTMLView",
            "style": "IPY_MODEL_abaa30c406e14faeb0585c8a31fc3617",
            "_dom_classes": [],
            "description": "",
            "_model_name": "HTMLModel",
            "placeholder": "​",
            "_view_module": "@jupyter-widgets/controls",
            "_model_module_version": "1.5.0",
            "value": " 412M/412M [01:15&lt;00:00, 5.25MB/s]",
            "_view_count": null,
            "_view_module_version": "1.5.0",
            "description_tooltip": null,
            "_model_module": "@jupyter-widgets/controls",
            "layout": "IPY_MODEL_2a52dc4e4efb41ab8828da190dabb831"
          }
        },
        "d6c54bd162094c1f8835bd257ff8f437": {
          "model_module": "@jupyter-widgets/controls",
          "model_name": "DescriptionStyleModel",
          "model_module_version": "1.5.0",
          "state": {
            "_view_name": "StyleView",
            "_model_name": "DescriptionStyleModel",
            "description_width": "",
            "_view_module": "@jupyter-widgets/base",
            "_model_module_version": "1.5.0",
            "_view_count": null,
            "_view_module_version": "1.2.0",
            "_model_module": "@jupyter-widgets/controls"
          }
        },
        "a5f99806a55b49bdb22f3c8664620cb9": {
          "model_module": "@jupyter-widgets/base",
          "model_name": "LayoutModel",
          "model_module_version": "1.2.0",
          "state": {
            "_view_name": "LayoutView",
            "grid_template_rows": null,
            "right": null,
            "justify_content": null,
            "_view_module": "@jupyter-widgets/base",
            "overflow": null,
            "_model_module_version": "1.2.0",
            "_view_count": null,
            "flex_flow": null,
            "width": null,
            "min_width": null,
            "border": null,
            "align_items": null,
            "bottom": null,
            "_model_module": "@jupyter-widgets/base",
            "top": null,
            "grid_column": null,
            "overflow_y": null,
            "overflow_x": null,
            "grid_auto_flow": null,
            "grid_area": null,
            "grid_template_columns": null,
            "flex": null,
            "_model_name": "LayoutModel",
            "justify_items": null,
            "grid_row": null,
            "max_height": null,
            "align_content": null,
            "visibility": null,
            "align_self": null,
            "height": null,
            "min_height": null,
            "padding": null,
            "grid_auto_rows": null,
            "grid_gap": null,
            "max_width": null,
            "order": null,
            "_view_module_version": "1.2.0",
            "grid_template_areas": null,
            "object_position": null,
            "object_fit": null,
            "grid_auto_columns": null,
            "margin": null,
            "display": null,
            "left": null
          }
        },
        "ef6856651ba04c69a8ac5dcba413e3c8": {
          "model_module": "@jupyter-widgets/controls",
          "model_name": "ProgressStyleModel",
          "model_module_version": "1.5.0",
          "state": {
            "_view_name": "StyleView",
            "_model_name": "ProgressStyleModel",
            "description_width": "",
            "_view_module": "@jupyter-widgets/base",
            "_model_module_version": "1.5.0",
            "_view_count": null,
            "_view_module_version": "1.2.0",
            "bar_color": null,
            "_model_module": "@jupyter-widgets/controls"
          }
        },
        "cd2a7ea2e6494e3dae0902887f04dde9": {
          "model_module": "@jupyter-widgets/base",
          "model_name": "LayoutModel",
          "model_module_version": "1.2.0",
          "state": {
            "_view_name": "LayoutView",
            "grid_template_rows": null,
            "right": null,
            "justify_content": null,
            "_view_module": "@jupyter-widgets/base",
            "overflow": null,
            "_model_module_version": "1.2.0",
            "_view_count": null,
            "flex_flow": null,
            "width": null,
            "min_width": null,
            "border": null,
            "align_items": null,
            "bottom": null,
            "_model_module": "@jupyter-widgets/base",
            "top": null,
            "grid_column": null,
            "overflow_y": null,
            "overflow_x": null,
            "grid_auto_flow": null,
            "grid_area": null,
            "grid_template_columns": null,
            "flex": null,
            "_model_name": "LayoutModel",
            "justify_items": null,
            "grid_row": null,
            "max_height": null,
            "align_content": null,
            "visibility": null,
            "align_self": null,
            "height": null,
            "min_height": null,
            "padding": null,
            "grid_auto_rows": null,
            "grid_gap": null,
            "max_width": null,
            "order": null,
            "_view_module_version": "1.2.0",
            "grid_template_areas": null,
            "object_position": null,
            "object_fit": null,
            "grid_auto_columns": null,
            "margin": null,
            "display": null,
            "left": null
          }
        },
        "abaa30c406e14faeb0585c8a31fc3617": {
          "model_module": "@jupyter-widgets/controls",
          "model_name": "DescriptionStyleModel",
          "model_module_version": "1.5.0",
          "state": {
            "_view_name": "StyleView",
            "_model_name": "DescriptionStyleModel",
            "description_width": "",
            "_view_module": "@jupyter-widgets/base",
            "_model_module_version": "1.5.0",
            "_view_count": null,
            "_view_module_version": "1.2.0",
            "_model_module": "@jupyter-widgets/controls"
          }
        },
        "2a52dc4e4efb41ab8828da190dabb831": {
          "model_module": "@jupyter-widgets/base",
          "model_name": "LayoutModel",
          "model_module_version": "1.2.0",
          "state": {
            "_view_name": "LayoutView",
            "grid_template_rows": null,
            "right": null,
            "justify_content": null,
            "_view_module": "@jupyter-widgets/base",
            "overflow": null,
            "_model_module_version": "1.2.0",
            "_view_count": null,
            "flex_flow": null,
            "width": null,
            "min_width": null,
            "border": null,
            "align_items": null,
            "bottom": null,
            "_model_module": "@jupyter-widgets/base",
            "top": null,
            "grid_column": null,
            "overflow_y": null,
            "overflow_x": null,
            "grid_auto_flow": null,
            "grid_area": null,
            "grid_template_columns": null,
            "flex": null,
            "_model_name": "LayoutModel",
            "justify_items": null,
            "grid_row": null,
            "max_height": null,
            "align_content": null,
            "visibility": null,
            "align_self": null,
            "height": null,
            "min_height": null,
            "padding": null,
            "grid_auto_rows": null,
            "grid_gap": null,
            "max_width": null,
            "order": null,
            "_view_module_version": "1.2.0",
            "grid_template_areas": null,
            "object_position": null,
            "object_fit": null,
            "grid_auto_columns": null,
            "margin": null,
            "display": null,
            "left": null
          }
        },
        "629c65fd069247cd86f4b344bfd3ffba": {
          "model_module": "@jupyter-widgets/controls",
          "model_name": "HBoxModel",
          "model_module_version": "1.5.0",
          "state": {
            "_view_name": "HBoxView",
            "_dom_classes": [],
            "_model_name": "HBoxModel",
            "_view_module": "@jupyter-widgets/controls",
            "_model_module_version": "1.5.0",
            "_view_count": null,
            "_view_module_version": "1.5.0",
            "box_style": "",
            "layout": "IPY_MODEL_4d9c4c53a33045efb7ee95b15c7b51ed",
            "_model_module": "@jupyter-widgets/controls",
            "children": [
              "IPY_MODEL_90ec8346020748418a36e4d8581a8b3d",
              "IPY_MODEL_15e754afa5074062b2c8ce45705ab03b",
              "IPY_MODEL_aa0af1592975415db1a80536588bfa18"
            ]
          }
        },
        "4d9c4c53a33045efb7ee95b15c7b51ed": {
          "model_module": "@jupyter-widgets/base",
          "model_name": "LayoutModel",
          "model_module_version": "1.2.0",
          "state": {
            "_view_name": "LayoutView",
            "grid_template_rows": null,
            "right": null,
            "justify_content": null,
            "_view_module": "@jupyter-widgets/base",
            "overflow": null,
            "_model_module_version": "1.2.0",
            "_view_count": null,
            "flex_flow": null,
            "width": null,
            "min_width": null,
            "border": null,
            "align_items": null,
            "bottom": null,
            "_model_module": "@jupyter-widgets/base",
            "top": null,
            "grid_column": null,
            "overflow_y": null,
            "overflow_x": null,
            "grid_auto_flow": null,
            "grid_area": null,
            "grid_template_columns": null,
            "flex": null,
            "_model_name": "LayoutModel",
            "justify_items": null,
            "grid_row": null,
            "max_height": null,
            "align_content": null,
            "visibility": null,
            "align_self": null,
            "height": null,
            "min_height": null,
            "padding": null,
            "grid_auto_rows": null,
            "grid_gap": null,
            "max_width": null,
            "order": null,
            "_view_module_version": "1.2.0",
            "grid_template_areas": null,
            "object_position": null,
            "object_fit": null,
            "grid_auto_columns": null,
            "margin": null,
            "display": null,
            "left": null
          }
        },
        "90ec8346020748418a36e4d8581a8b3d": {
          "model_module": "@jupyter-widgets/controls",
          "model_name": "HTMLModel",
          "model_module_version": "1.5.0",
          "state": {
            "_view_name": "HTMLView",
            "style": "IPY_MODEL_10c479886ab24030b405e176ab3834b9",
            "_dom_classes": [],
            "description": "",
            "_model_name": "HTMLModel",
            "placeholder": "​",
            "_view_module": "@jupyter-widgets/controls",
            "_model_module_version": "1.5.0",
            "value": "Downloading https://raw.githubusercontent.com/stanfordnlp/stanza-resources/main/resources_1.2.2.json: ",
            "_view_count": null,
            "_view_module_version": "1.5.0",
            "description_tooltip": null,
            "_model_module": "@jupyter-widgets/controls",
            "layout": "IPY_MODEL_6bbf7d5fd5c745fda960c689487f3c23"
          }
        },
        "15e754afa5074062b2c8ce45705ab03b": {
          "model_module": "@jupyter-widgets/controls",
          "model_name": "FloatProgressModel",
          "model_module_version": "1.5.0",
          "state": {
            "_view_name": "ProgressView",
            "style": "IPY_MODEL_fcb2f6a0b7e144ada4d913b985b6d5f3",
            "_dom_classes": [],
            "description": "",
            "_model_name": "FloatProgressModel",
            "bar_style": "success",
            "max": 24144,
            "_view_module": "@jupyter-widgets/controls",
            "_model_module_version": "1.5.0",
            "value": 24144,
            "_view_count": null,
            "_view_module_version": "1.5.0",
            "orientation": "horizontal",
            "min": 0,
            "description_tooltip": null,
            "_model_module": "@jupyter-widgets/controls",
            "layout": "IPY_MODEL_b5d9092e5f3449ceaf2eab9a788fab78"
          }
        },
        "aa0af1592975415db1a80536588bfa18": {
          "model_module": "@jupyter-widgets/controls",
          "model_name": "HTMLModel",
          "model_module_version": "1.5.0",
          "state": {
            "_view_name": "HTMLView",
            "style": "IPY_MODEL_3ec6f9c083c547549a1b7c3a6d7e056d",
            "_dom_classes": [],
            "description": "",
            "_model_name": "HTMLModel",
            "placeholder": "​",
            "_view_module": "@jupyter-widgets/controls",
            "_model_module_version": "1.5.0",
            "value": " 140k/? [00:00&lt;00:00, 2.05MB/s]",
            "_view_count": null,
            "_view_module_version": "1.5.0",
            "description_tooltip": null,
            "_model_module": "@jupyter-widgets/controls",
            "layout": "IPY_MODEL_83c603b46ce947c28ea56f7f4fdf6f0b"
          }
        },
        "10c479886ab24030b405e176ab3834b9": {
          "model_module": "@jupyter-widgets/controls",
          "model_name": "DescriptionStyleModel",
          "model_module_version": "1.5.0",
          "state": {
            "_view_name": "StyleView",
            "_model_name": "DescriptionStyleModel",
            "description_width": "",
            "_view_module": "@jupyter-widgets/base",
            "_model_module_version": "1.5.0",
            "_view_count": null,
            "_view_module_version": "1.2.0",
            "_model_module": "@jupyter-widgets/controls"
          }
        },
        "6bbf7d5fd5c745fda960c689487f3c23": {
          "model_module": "@jupyter-widgets/base",
          "model_name": "LayoutModel",
          "model_module_version": "1.2.0",
          "state": {
            "_view_name": "LayoutView",
            "grid_template_rows": null,
            "right": null,
            "justify_content": null,
            "_view_module": "@jupyter-widgets/base",
            "overflow": null,
            "_model_module_version": "1.2.0",
            "_view_count": null,
            "flex_flow": null,
            "width": null,
            "min_width": null,
            "border": null,
            "align_items": null,
            "bottom": null,
            "_model_module": "@jupyter-widgets/base",
            "top": null,
            "grid_column": null,
            "overflow_y": null,
            "overflow_x": null,
            "grid_auto_flow": null,
            "grid_area": null,
            "grid_template_columns": null,
            "flex": null,
            "_model_name": "LayoutModel",
            "justify_items": null,
            "grid_row": null,
            "max_height": null,
            "align_content": null,
            "visibility": null,
            "align_self": null,
            "height": null,
            "min_height": null,
            "padding": null,
            "grid_auto_rows": null,
            "grid_gap": null,
            "max_width": null,
            "order": null,
            "_view_module_version": "1.2.0",
            "grid_template_areas": null,
            "object_position": null,
            "object_fit": null,
            "grid_auto_columns": null,
            "margin": null,
            "display": null,
            "left": null
          }
        },
        "fcb2f6a0b7e144ada4d913b985b6d5f3": {
          "model_module": "@jupyter-widgets/controls",
          "model_name": "ProgressStyleModel",
          "model_module_version": "1.5.0",
          "state": {
            "_view_name": "StyleView",
            "_model_name": "ProgressStyleModel",
            "description_width": "",
            "_view_module": "@jupyter-widgets/base",
            "_model_module_version": "1.5.0",
            "_view_count": null,
            "_view_module_version": "1.2.0",
            "bar_color": null,
            "_model_module": "@jupyter-widgets/controls"
          }
        },
        "b5d9092e5f3449ceaf2eab9a788fab78": {
          "model_module": "@jupyter-widgets/base",
          "model_name": "LayoutModel",
          "model_module_version": "1.2.0",
          "state": {
            "_view_name": "LayoutView",
            "grid_template_rows": null,
            "right": null,
            "justify_content": null,
            "_view_module": "@jupyter-widgets/base",
            "overflow": null,
            "_model_module_version": "1.2.0",
            "_view_count": null,
            "flex_flow": null,
            "width": null,
            "min_width": null,
            "border": null,
            "align_items": null,
            "bottom": null,
            "_model_module": "@jupyter-widgets/base",
            "top": null,
            "grid_column": null,
            "overflow_y": null,
            "overflow_x": null,
            "grid_auto_flow": null,
            "grid_area": null,
            "grid_template_columns": null,
            "flex": null,
            "_model_name": "LayoutModel",
            "justify_items": null,
            "grid_row": null,
            "max_height": null,
            "align_content": null,
            "visibility": null,
            "align_self": null,
            "height": null,
            "min_height": null,
            "padding": null,
            "grid_auto_rows": null,
            "grid_gap": null,
            "max_width": null,
            "order": null,
            "_view_module_version": "1.2.0",
            "grid_template_areas": null,
            "object_position": null,
            "object_fit": null,
            "grid_auto_columns": null,
            "margin": null,
            "display": null,
            "left": null
          }
        },
        "3ec6f9c083c547549a1b7c3a6d7e056d": {
          "model_module": "@jupyter-widgets/controls",
          "model_name": "DescriptionStyleModel",
          "model_module_version": "1.5.0",
          "state": {
            "_view_name": "StyleView",
            "_model_name": "DescriptionStyleModel",
            "description_width": "",
            "_view_module": "@jupyter-widgets/base",
            "_model_module_version": "1.5.0",
            "_view_count": null,
            "_view_module_version": "1.2.0",
            "_model_module": "@jupyter-widgets/controls"
          }
        },
        "83c603b46ce947c28ea56f7f4fdf6f0b": {
          "model_module": "@jupyter-widgets/base",
          "model_name": "LayoutModel",
          "model_module_version": "1.2.0",
          "state": {
            "_view_name": "LayoutView",
            "grid_template_rows": null,
            "right": null,
            "justify_content": null,
            "_view_module": "@jupyter-widgets/base",
            "overflow": null,
            "_model_module_version": "1.2.0",
            "_view_count": null,
            "flex_flow": null,
            "width": null,
            "min_width": null,
            "border": null,
            "align_items": null,
            "bottom": null,
            "_model_module": "@jupyter-widgets/base",
            "top": null,
            "grid_column": null,
            "overflow_y": null,
            "overflow_x": null,
            "grid_auto_flow": null,
            "grid_area": null,
            "grid_template_columns": null,
            "flex": null,
            "_model_name": "LayoutModel",
            "justify_items": null,
            "grid_row": null,
            "max_height": null,
            "align_content": null,
            "visibility": null,
            "align_self": null,
            "height": null,
            "min_height": null,
            "padding": null,
            "grid_auto_rows": null,
            "grid_gap": null,
            "max_width": null,
            "order": null,
            "_view_module_version": "1.2.0",
            "grid_template_areas": null,
            "object_position": null,
            "object_fit": null,
            "grid_auto_columns": null,
            "margin": null,
            "display": null,
            "left": null
          }
        }
      }
    }
  },
  "cells": [
    {
      "cell_type": "markdown",
      "metadata": {
        "id": "4lSO_2pvn5QE"
      },
      "source": [
        "# POS tagging\n",
        "\n",
        "Part-of-Speech(POS) Tagging is the process of assigning different labels known as POS tags to the words in a sentence that tells us about the part-of-speech of the word.\n",
        "\n",
        "\n",
        "Now you know what POS tags are and what is POS tagging. So let’s write the code in python for POS tagging sentences. For this purpose, I have used Spacy here, but there are other libraries like NLTK and Stanza, which can also be used for doing the same."
      ]
    },
    {
      "cell_type": "code",
      "metadata": {
        "colab": {
          "base_uri": "https://localhost:8080/"
        },
        "id": "2eGhLVIWnetO",
        "outputId": "c013d06b-5db9-43b6-8e10-887c635c6451"
      },
      "source": [
        "import spacy\n",
        "nlp=spacy.load('en_core_web_sm')\n",
        "text='It took me more than two hours to translate a few pages of English.'\n",
        "for token in nlp(text):\n",
        "  \n",
        "\n",
        "  print(token.text, '=>',token.pos_,'=>',token.tag_)"
      ],
      "execution_count": 7,
      "outputs": [
        {
          "output_type": "stream",
          "name": "stdout",
          "text": [
            "It => PRON => PRP\n",
            "took => VERB => VBD\n",
            "me => PRON => PRP\n",
            "more => ADJ => JJR\n",
            "than => SCONJ => IN\n",
            "two => NUM => CD\n",
            "hours => NOUN => NNS\n",
            "to => PART => TO\n",
            "translate => VERB => VB\n",
            "a => DET => DT\n",
            "few => ADJ => JJ\n",
            "pages => NOUN => NNS\n",
            "of => ADP => IN\n",
            "English => PROPN => NNP\n",
            ". => PUNCT => .\n"
          ]
        }
      ]
    },
    {
      "cell_type": "markdown",
      "metadata": {
        "id": "AEzEaJZ0o_6E"
      },
      "source": [
        "In the above code sample, I have loaded the spacy’s en_web_core_sm model and used it to get the POS tags. You can see that the pos_ returns the universal POS tags, and tag_ returns detailed POS tags for words in the sentence."
      ]
    },
    {
      "cell_type": "markdown",
      "metadata": {
        "id": "8ShXGUq4p7Qz"
      },
      "source": [
        "# Dependency Parsing\n",
        "\n",
        "Dependency parsing is the process of analyzing the grammatical structure of a sentence based on the dependencies between the words in a sentence.\n",
        "\n",
        "In Dependency parsing, various tags represent the relationship between two words in a sentence. These tags are the dependency tags. For example, In the phrase ‘rainy weather,’ the word rainy modifies the meaning of the noun weather. Therefore, a dependency exists from the weather -> rainy in which the weather acts as the head and the rainy acts as dependent or child. This dependency is represented by amod tag, which stands for the adjectival modifier.\n",
        "\n",
        "dependency tag\n",
        "\n",
        "![image.png](data:image/png;base64,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)\n",
        "\n",
        "Now let’s use Spacy and find the dependencies in a sentence."
      ]
    },
    {
      "cell_type": "markdown",
      "metadata": {
        "id": "Rd99b8bj40fw"
      },
      "source": [
        "# Method 1: Using Spacy"
      ]
    },
    {
      "cell_type": "code",
      "metadata": {
        "colab": {
          "base_uri": "https://localhost:8080/"
        },
        "id": "N9R1gheRpAr-",
        "outputId": "27a2c7ca-16b9-4c51-9f55-a758de15ad60"
      },
      "source": [
        "import spacy\n",
        "nlp=spacy.load('en_core_web_sm')\n",
        "\n",
        "text='It took me more than two hours to translate a few pages of English.'\n",
        "\n",
        "for token in nlp(text):\n",
        " print(token.text,'=>',token.dep_,'=>',token.head.text)"
      ],
      "execution_count": 8,
      "outputs": [
        {
          "output_type": "stream",
          "name": "stdout",
          "text": [
            "It => nsubj => took\n",
            "took => ROOT => took\n",
            "me => dative => took\n",
            "more => amod => two\n",
            "than => quantmod => two\n",
            "two => nummod => hours\n",
            "hours => dobj => took\n",
            "to => aux => translate\n",
            "translate => xcomp => took\n",
            "a => det => pages\n",
            "few => amod => pages\n",
            "pages => dobj => translate\n",
            "of => prep => pages\n",
            "English => pobj => of\n",
            ". => punct => took\n"
          ]
        }
      ]
    },
    {
      "cell_type": "markdown",
      "metadata": {
        "id": "zYEV-HpvrBtf"
      },
      "source": [
        "In the above code example, the dep_ returns the dependency tag for a word, and head.text returns the respective head word. If you noticed, in the above image, the word took has a dependency tag of ROOT. This tag is assigned to the word which acts as the head of many words in a sentence but is not a child of any other word. Generally, it is the main verb of the sentence similar to ‘took’ in this case."
      ]
    },
    {
      "cell_type": "markdown",
      "metadata": {
        "id": "O-6fU6PpruKF"
      },
      "source": [
        "Now you know what dependency tags and what head, child, and root word are. But doesn’t the parsing means generating a parse tree?\n",
        "\n",
        "Yes, we’re generating the tree here, but we’re not visualizing it. The tree generated by dependency parsing is known as a dependency tree. There are multiple ways of visualizing it, but for the sake of simplicity, we’ll use displaCy which is used for visualizing the dependency parse."
      ]
    },
    {
      "cell_type": "code",
      "metadata": {
        "colab": {
          "base_uri": "https://localhost:8080/",
          "height": 615
        },
        "id": "mIIeWrjnqbBE",
        "outputId": "66978fdd-0e82-41af-bd50-a2248a8cf259"
      },
      "source": [
        "from spacy import displacy\n",
        "displacy.render(nlp(text),jupyter=True)"
      ],
      "execution_count": 9,
      "outputs": [
        {
          "output_type": "display_data",
          "data": {
            "text/html": [
              "<span class=\"tex2jax_ignore\"><svg xmlns=\"http://www.w3.org/2000/svg\" xmlns:xlink=\"http://www.w3.org/1999/xlink\" xml:lang=\"en\" id=\"f6023cfd2c0a4d02b5c76e90fd5bb803-0\" class=\"displacy\" width=\"2500\" height=\"574.5\" direction=\"ltr\" style=\"max-width: none; height: 574.5px; color: #000000; background: #ffffff; font-family: Arial; direction: ltr\">\n",
              "<text class=\"displacy-token\" fill=\"currentColor\" text-anchor=\"middle\" y=\"484.5\">\n",
              "    <tspan class=\"displacy-word\" fill=\"currentColor\" x=\"50\">It</tspan>\n",
              "    <tspan class=\"displacy-tag\" dy=\"2em\" fill=\"currentColor\" x=\"50\">PRON</tspan>\n",
              "</text>\n",
              "\n",
              "<text class=\"displacy-token\" fill=\"currentColor\" text-anchor=\"middle\" y=\"484.5\">\n",
              "    <tspan class=\"displacy-word\" fill=\"currentColor\" x=\"225\">took</tspan>\n",
              "    <tspan class=\"displacy-tag\" dy=\"2em\" fill=\"currentColor\" x=\"225\">VERB</tspan>\n",
              "</text>\n",
              "\n",
              "<text class=\"displacy-token\" fill=\"currentColor\" text-anchor=\"middle\" y=\"484.5\">\n",
              "    <tspan class=\"displacy-word\" fill=\"currentColor\" x=\"400\">me</tspan>\n",
              "    <tspan class=\"displacy-tag\" dy=\"2em\" fill=\"currentColor\" x=\"400\">PRON</tspan>\n",
              "</text>\n",
              "\n",
              "<text class=\"displacy-token\" fill=\"currentColor\" text-anchor=\"middle\" y=\"484.5\">\n",
              "    <tspan class=\"displacy-word\" fill=\"currentColor\" x=\"575\">more</tspan>\n",
              "    <tspan class=\"displacy-tag\" dy=\"2em\" fill=\"currentColor\" x=\"575\">ADJ</tspan>\n",
              "</text>\n",
              "\n",
              "<text class=\"displacy-token\" fill=\"currentColor\" text-anchor=\"middle\" y=\"484.5\">\n",
              "    <tspan class=\"displacy-word\" fill=\"currentColor\" x=\"750\">than</tspan>\n",
              "    <tspan class=\"displacy-tag\" dy=\"2em\" fill=\"currentColor\" x=\"750\">SCONJ</tspan>\n",
              "</text>\n",
              "\n",
              "<text class=\"displacy-token\" fill=\"currentColor\" text-anchor=\"middle\" y=\"484.5\">\n",
              "    <tspan class=\"displacy-word\" fill=\"currentColor\" x=\"925\">two</tspan>\n",
              "    <tspan class=\"displacy-tag\" dy=\"2em\" fill=\"currentColor\" x=\"925\">NUM</tspan>\n",
              "</text>\n",
              "\n",
              "<text class=\"displacy-token\" fill=\"currentColor\" text-anchor=\"middle\" y=\"484.5\">\n",
              "    <tspan class=\"displacy-word\" fill=\"currentColor\" x=\"1100\">hours</tspan>\n",
              "    <tspan class=\"displacy-tag\" dy=\"2em\" fill=\"currentColor\" x=\"1100\">NOUN</tspan>\n",
              "</text>\n",
              "\n",
              "<text class=\"displacy-token\" fill=\"currentColor\" text-anchor=\"middle\" y=\"484.5\">\n",
              "    <tspan class=\"displacy-word\" fill=\"currentColor\" x=\"1275\">to</tspan>\n",
              "    <tspan class=\"displacy-tag\" dy=\"2em\" fill=\"currentColor\" x=\"1275\">PART</tspan>\n",
              "</text>\n",
              "\n",
              "<text class=\"displacy-token\" fill=\"currentColor\" text-anchor=\"middle\" y=\"484.5\">\n",
              "    <tspan class=\"displacy-word\" fill=\"currentColor\" x=\"1450\">translate</tspan>\n",
              "    <tspan class=\"displacy-tag\" dy=\"2em\" fill=\"currentColor\" x=\"1450\">VERB</tspan>\n",
              "</text>\n",
              "\n",
              "<text class=\"displacy-token\" fill=\"currentColor\" text-anchor=\"middle\" y=\"484.5\">\n",
              "    <tspan class=\"displacy-word\" fill=\"currentColor\" x=\"1625\">a</tspan>\n",
              "    <tspan class=\"displacy-tag\" dy=\"2em\" fill=\"currentColor\" x=\"1625\">DET</tspan>\n",
              "</text>\n",
              "\n",
              "<text class=\"displacy-token\" fill=\"currentColor\" text-anchor=\"middle\" y=\"484.5\">\n",
              "    <tspan class=\"displacy-word\" fill=\"currentColor\" x=\"1800\">few</tspan>\n",
              "    <tspan class=\"displacy-tag\" dy=\"2em\" fill=\"currentColor\" x=\"1800\">ADJ</tspan>\n",
              "</text>\n",
              "\n",
              "<text class=\"displacy-token\" fill=\"currentColor\" text-anchor=\"middle\" y=\"484.5\">\n",
              "    <tspan class=\"displacy-word\" fill=\"currentColor\" x=\"1975\">pages</tspan>\n",
              "    <tspan class=\"displacy-tag\" dy=\"2em\" fill=\"currentColor\" x=\"1975\">NOUN</tspan>\n",
              "</text>\n",
              "\n",
              "<text class=\"displacy-token\" fill=\"currentColor\" text-anchor=\"middle\" y=\"484.5\">\n",
              "    <tspan class=\"displacy-word\" fill=\"currentColor\" x=\"2150\">of</tspan>\n",
              "    <tspan class=\"displacy-tag\" dy=\"2em\" fill=\"currentColor\" x=\"2150\">ADP</tspan>\n",
              "</text>\n",
              "\n",
              "<text class=\"displacy-token\" fill=\"currentColor\" text-anchor=\"middle\" y=\"484.5\">\n",
              "    <tspan class=\"displacy-word\" fill=\"currentColor\" x=\"2325\">English.</tspan>\n",
              "    <tspan class=\"displacy-tag\" dy=\"2em\" fill=\"currentColor\" x=\"2325\">PROPN</tspan>\n",
              "</text>\n",
              "\n",
              "<g class=\"displacy-arrow\">\n",
              "    <path class=\"displacy-arc\" id=\"arrow-f6023cfd2c0a4d02b5c76e90fd5bb803-0-0\" stroke-width=\"2px\" d=\"M70,439.5 C70,352.0 205.0,352.0 205.0,439.5\" fill=\"none\" stroke=\"currentColor\"/>\n",
              "    <text dy=\"1.25em\" style=\"font-size: 0.8em; letter-spacing: 1px\">\n",
              "        <textPath xlink:href=\"#arrow-f6023cfd2c0a4d02b5c76e90fd5bb803-0-0\" class=\"displacy-label\" startOffset=\"50%\" side=\"left\" fill=\"currentColor\" text-anchor=\"middle\">nsubj</textPath>\n",
              "    </text>\n",
              "    <path class=\"displacy-arrowhead\" d=\"M70,441.5 L62,429.5 78,429.5\" fill=\"currentColor\"/>\n",
              "</g>\n",
              "\n",
              "<g class=\"displacy-arrow\">\n",
              "    <path class=\"displacy-arc\" id=\"arrow-f6023cfd2c0a4d02b5c76e90fd5bb803-0-1\" stroke-width=\"2px\" d=\"M245,439.5 C245,352.0 380.0,352.0 380.0,439.5\" fill=\"none\" stroke=\"currentColor\"/>\n",
              "    <text dy=\"1.25em\" style=\"font-size: 0.8em; letter-spacing: 1px\">\n",
              "        <textPath xlink:href=\"#arrow-f6023cfd2c0a4d02b5c76e90fd5bb803-0-1\" class=\"displacy-label\" startOffset=\"50%\" side=\"left\" fill=\"currentColor\" text-anchor=\"middle\">dative</textPath>\n",
              "    </text>\n",
              "    <path class=\"displacy-arrowhead\" d=\"M380.0,441.5 L388.0,429.5 372.0,429.5\" fill=\"currentColor\"/>\n",
              "</g>\n",
              "\n",
              "<g class=\"displacy-arrow\">\n",
              "    <path class=\"displacy-arc\" id=\"arrow-f6023cfd2c0a4d02b5c76e90fd5bb803-0-2\" stroke-width=\"2px\" d=\"M595,439.5 C595,264.5 910.0,264.5 910.0,439.5\" fill=\"none\" stroke=\"currentColor\"/>\n",
              "    <text dy=\"1.25em\" style=\"font-size: 0.8em; letter-spacing: 1px\">\n",
              "        <textPath xlink:href=\"#arrow-f6023cfd2c0a4d02b5c76e90fd5bb803-0-2\" class=\"displacy-label\" startOffset=\"50%\" side=\"left\" fill=\"currentColor\" text-anchor=\"middle\">amod</textPath>\n",
              "    </text>\n",
              "    <path class=\"displacy-arrowhead\" d=\"M595,441.5 L587,429.5 603,429.5\" fill=\"currentColor\"/>\n",
              "</g>\n",
              "\n",
              "<g class=\"displacy-arrow\">\n",
              "    <path class=\"displacy-arc\" id=\"arrow-f6023cfd2c0a4d02b5c76e90fd5bb803-0-3\" stroke-width=\"2px\" d=\"M770,439.5 C770,352.0 905.0,352.0 905.0,439.5\" fill=\"none\" stroke=\"currentColor\"/>\n",
              "    <text dy=\"1.25em\" style=\"font-size: 0.8em; letter-spacing: 1px\">\n",
              "        <textPath xlink:href=\"#arrow-f6023cfd2c0a4d02b5c76e90fd5bb803-0-3\" class=\"displacy-label\" startOffset=\"50%\" side=\"left\" fill=\"currentColor\" text-anchor=\"middle\">quantmod</textPath>\n",
              "    </text>\n",
              "    <path class=\"displacy-arrowhead\" d=\"M770,441.5 L762,429.5 778,429.5\" fill=\"currentColor\"/>\n",
              "</g>\n",
              "\n",
              "<g class=\"displacy-arrow\">\n",
              "    <path class=\"displacy-arc\" id=\"arrow-f6023cfd2c0a4d02b5c76e90fd5bb803-0-4\" stroke-width=\"2px\" d=\"M945,439.5 C945,352.0 1080.0,352.0 1080.0,439.5\" fill=\"none\" stroke=\"currentColor\"/>\n",
              "    <text dy=\"1.25em\" style=\"font-size: 0.8em; letter-spacing: 1px\">\n",
              "        <textPath xlink:href=\"#arrow-f6023cfd2c0a4d02b5c76e90fd5bb803-0-4\" class=\"displacy-label\" startOffset=\"50%\" side=\"left\" fill=\"currentColor\" text-anchor=\"middle\">nummod</textPath>\n",
              "    </text>\n",
              "    <path class=\"displacy-arrowhead\" d=\"M945,441.5 L937,429.5 953,429.5\" fill=\"currentColor\"/>\n",
              "</g>\n",
              "\n",
              "<g class=\"displacy-arrow\">\n",
              "    <path class=\"displacy-arc\" id=\"arrow-f6023cfd2c0a4d02b5c76e90fd5bb803-0-5\" stroke-width=\"2px\" d=\"M245,439.5 C245,89.5 1095.0,89.5 1095.0,439.5\" fill=\"none\" stroke=\"currentColor\"/>\n",
              "    <text dy=\"1.25em\" style=\"font-size: 0.8em; letter-spacing: 1px\">\n",
              "        <textPath xlink:href=\"#arrow-f6023cfd2c0a4d02b5c76e90fd5bb803-0-5\" class=\"displacy-label\" startOffset=\"50%\" side=\"left\" fill=\"currentColor\" text-anchor=\"middle\">dobj</textPath>\n",
              "    </text>\n",
              "    <path class=\"displacy-arrowhead\" d=\"M1095.0,441.5 L1103.0,429.5 1087.0,429.5\" fill=\"currentColor\"/>\n",
              "</g>\n",
              "\n",
              "<g class=\"displacy-arrow\">\n",
              "    <path class=\"displacy-arc\" id=\"arrow-f6023cfd2c0a4d02b5c76e90fd5bb803-0-6\" stroke-width=\"2px\" d=\"M1295,439.5 C1295,352.0 1430.0,352.0 1430.0,439.5\" fill=\"none\" stroke=\"currentColor\"/>\n",
              "    <text dy=\"1.25em\" style=\"font-size: 0.8em; letter-spacing: 1px\">\n",
              "        <textPath xlink:href=\"#arrow-f6023cfd2c0a4d02b5c76e90fd5bb803-0-6\" class=\"displacy-label\" startOffset=\"50%\" side=\"left\" fill=\"currentColor\" text-anchor=\"middle\">aux</textPath>\n",
              "    </text>\n",
              "    <path class=\"displacy-arrowhead\" d=\"M1295,441.5 L1287,429.5 1303,429.5\" fill=\"currentColor\"/>\n",
              "</g>\n",
              "\n",
              "<g class=\"displacy-arrow\">\n",
              "    <path class=\"displacy-arc\" id=\"arrow-f6023cfd2c0a4d02b5c76e90fd5bb803-0-7\" stroke-width=\"2px\" d=\"M245,439.5 C245,2.0 1450.0,2.0 1450.0,439.5\" fill=\"none\" stroke=\"currentColor\"/>\n",
              "    <text dy=\"1.25em\" style=\"font-size: 0.8em; letter-spacing: 1px\">\n",
              "        <textPath xlink:href=\"#arrow-f6023cfd2c0a4d02b5c76e90fd5bb803-0-7\" class=\"displacy-label\" startOffset=\"50%\" side=\"left\" fill=\"currentColor\" text-anchor=\"middle\">xcomp</textPath>\n",
              "    </text>\n",
              "    <path class=\"displacy-arrowhead\" d=\"M1450.0,441.5 L1458.0,429.5 1442.0,429.5\" fill=\"currentColor\"/>\n",
              "</g>\n",
              "\n",
              "<g class=\"displacy-arrow\">\n",
              "    <path class=\"displacy-arc\" id=\"arrow-f6023cfd2c0a4d02b5c76e90fd5bb803-0-8\" stroke-width=\"2px\" d=\"M1645,439.5 C1645,264.5 1960.0,264.5 1960.0,439.5\" fill=\"none\" stroke=\"currentColor\"/>\n",
              "    <text dy=\"1.25em\" style=\"font-size: 0.8em; letter-spacing: 1px\">\n",
              "        <textPath xlink:href=\"#arrow-f6023cfd2c0a4d02b5c76e90fd5bb803-0-8\" class=\"displacy-label\" startOffset=\"50%\" side=\"left\" fill=\"currentColor\" text-anchor=\"middle\">det</textPath>\n",
              "    </text>\n",
              "    <path class=\"displacy-arrowhead\" d=\"M1645,441.5 L1637,429.5 1653,429.5\" fill=\"currentColor\"/>\n",
              "</g>\n",
              "\n",
              "<g class=\"displacy-arrow\">\n",
              "    <path class=\"displacy-arc\" id=\"arrow-f6023cfd2c0a4d02b5c76e90fd5bb803-0-9\" stroke-width=\"2px\" d=\"M1820,439.5 C1820,352.0 1955.0,352.0 1955.0,439.5\" fill=\"none\" stroke=\"currentColor\"/>\n",
              "    <text dy=\"1.25em\" style=\"font-size: 0.8em; letter-spacing: 1px\">\n",
              "        <textPath xlink:href=\"#arrow-f6023cfd2c0a4d02b5c76e90fd5bb803-0-9\" class=\"displacy-label\" startOffset=\"50%\" side=\"left\" fill=\"currentColor\" text-anchor=\"middle\">amod</textPath>\n",
              "    </text>\n",
              "    <path class=\"displacy-arrowhead\" d=\"M1820,441.5 L1812,429.5 1828,429.5\" fill=\"currentColor\"/>\n",
              "</g>\n",
              "\n",
              "<g class=\"displacy-arrow\">\n",
              "    <path class=\"displacy-arc\" id=\"arrow-f6023cfd2c0a4d02b5c76e90fd5bb803-0-10\" stroke-width=\"2px\" d=\"M1470,439.5 C1470,177.0 1965.0,177.0 1965.0,439.5\" fill=\"none\" stroke=\"currentColor\"/>\n",
              "    <text dy=\"1.25em\" style=\"font-size: 0.8em; letter-spacing: 1px\">\n",
              "        <textPath xlink:href=\"#arrow-f6023cfd2c0a4d02b5c76e90fd5bb803-0-10\" class=\"displacy-label\" startOffset=\"50%\" side=\"left\" fill=\"currentColor\" text-anchor=\"middle\">dobj</textPath>\n",
              "    </text>\n",
              "    <path class=\"displacy-arrowhead\" d=\"M1965.0,441.5 L1973.0,429.5 1957.0,429.5\" fill=\"currentColor\"/>\n",
              "</g>\n",
              "\n",
              "<g class=\"displacy-arrow\">\n",
              "    <path class=\"displacy-arc\" id=\"arrow-f6023cfd2c0a4d02b5c76e90fd5bb803-0-11\" stroke-width=\"2px\" d=\"M1995,439.5 C1995,352.0 2130.0,352.0 2130.0,439.5\" fill=\"none\" stroke=\"currentColor\"/>\n",
              "    <text dy=\"1.25em\" style=\"font-size: 0.8em; letter-spacing: 1px\">\n",
              "        <textPath xlink:href=\"#arrow-f6023cfd2c0a4d02b5c76e90fd5bb803-0-11\" class=\"displacy-label\" startOffset=\"50%\" side=\"left\" fill=\"currentColor\" text-anchor=\"middle\">prep</textPath>\n",
              "    </text>\n",
              "    <path class=\"displacy-arrowhead\" d=\"M2130.0,441.5 L2138.0,429.5 2122.0,429.5\" fill=\"currentColor\"/>\n",
              "</g>\n",
              "\n",
              "<g class=\"displacy-arrow\">\n",
              "    <path class=\"displacy-arc\" id=\"arrow-f6023cfd2c0a4d02b5c76e90fd5bb803-0-12\" stroke-width=\"2px\" d=\"M2170,439.5 C2170,352.0 2305.0,352.0 2305.0,439.5\" fill=\"none\" stroke=\"currentColor\"/>\n",
              "    <text dy=\"1.25em\" style=\"font-size: 0.8em; letter-spacing: 1px\">\n",
              "        <textPath xlink:href=\"#arrow-f6023cfd2c0a4d02b5c76e90fd5bb803-0-12\" class=\"displacy-label\" startOffset=\"50%\" side=\"left\" fill=\"currentColor\" text-anchor=\"middle\">pobj</textPath>\n",
              "    </text>\n",
              "    <path class=\"displacy-arrowhead\" d=\"M2305.0,441.5 L2313.0,429.5 2297.0,429.5\" fill=\"currentColor\"/>\n",
              "</g>\n",
              "</svg></span>"
            ],
            "text/plain": [
              "<IPython.core.display.HTML object>"
            ]
          },
          "metadata": {}
        }
      ]
    },
    {
      "cell_type": "code",
      "metadata": {
        "colab": {
          "base_uri": "https://localhost:8080/",
          "height": 395
        },
        "id": "p2N9XO9V4RPL",
        "outputId": "a1fb7617-3d84-41cf-a53a-2ef1cb736121"
      },
      "source": [
        "import spacy\n",
        "from spacy import displacy\n",
        "\n",
        "# Load the language model\n",
        "nlp = spacy.load(\"en_core_web_sm\")\n",
        "\n",
        "sentence = 'Deemed universities charge huge fees'\n",
        "\n",
        "# nlp function returns an object with individual token information, \n",
        "# linguistic features and relationships\n",
        "doc = nlp(sentence)\n",
        "\n",
        "print (\"{:<15} | {:<8} | {:<15} | {:<20}\".format('Token','Relation','Head', 'Children'))\n",
        "print (\"-\" * 70)\n",
        "\n",
        "for token in doc:\n",
        "  # Print the token, dependency nature, head and all dependents of the token\n",
        "  print (\"{:<15} | {:<8} | {:<15} | {:<20}\"\n",
        "         .format(str(token.text), str(token.dep_), str(token.head.text), str([child for child in token.children])))\n",
        "  \n",
        "# Use displayCy to visualize the dependency \n",
        "displacy.render(doc, style='dep', jupyter=True, options={'distance': 120})"
      ],
      "execution_count": 22,
      "outputs": [
        {
          "output_type": "stream",
          "name": "stdout",
          "text": [
            "Token           | Relation | Head            | Children            \n",
            "----------------------------------------------------------------------\n",
            "Deemed          | amod     | universities    | []                  \n",
            "universities    | nsubj    | charge          | [Deemed]            \n",
            "charge          | ROOT     | charge          | [universities, fees]\n",
            "huge            | amod     | fees            | []                  \n",
            "fees            | dobj     | charge          | [huge]              \n"
          ]
        },
        {
          "output_type": "display_data",
          "data": {
            "text/html": [
              "<span class=\"tex2jax_ignore\"><svg xmlns=\"http://www.w3.org/2000/svg\" xmlns:xlink=\"http://www.w3.org/1999/xlink\" xml:lang=\"en\" id=\"4ba2be7272f24dbd8fc3123b7139869e-0\" class=\"displacy\" width=\"650\" height=\"257.0\" direction=\"ltr\" style=\"max-width: none; height: 257.0px; color: #000000; background: #ffffff; font-family: Arial; direction: ltr\">\n",
              "<text class=\"displacy-token\" fill=\"currentColor\" text-anchor=\"middle\" y=\"167.0\">\n",
              "    <tspan class=\"displacy-word\" fill=\"currentColor\" x=\"50\">Deemed</tspan>\n",
              "    <tspan class=\"displacy-tag\" dy=\"2em\" fill=\"currentColor\" x=\"50\">ADJ</tspan>\n",
              "</text>\n",
              "\n",
              "<text class=\"displacy-token\" fill=\"currentColor\" text-anchor=\"middle\" y=\"167.0\">\n",
              "    <tspan class=\"displacy-word\" fill=\"currentColor\" x=\"170\">universities</tspan>\n",
              "    <tspan class=\"displacy-tag\" dy=\"2em\" fill=\"currentColor\" x=\"170\">NOUN</tspan>\n",
              "</text>\n",
              "\n",
              "<text class=\"displacy-token\" fill=\"currentColor\" text-anchor=\"middle\" y=\"167.0\">\n",
              "    <tspan class=\"displacy-word\" fill=\"currentColor\" x=\"290\">charge</tspan>\n",
              "    <tspan class=\"displacy-tag\" dy=\"2em\" fill=\"currentColor\" x=\"290\">VERB</tspan>\n",
              "</text>\n",
              "\n",
              "<text class=\"displacy-token\" fill=\"currentColor\" text-anchor=\"middle\" y=\"167.0\">\n",
              "    <tspan class=\"displacy-word\" fill=\"currentColor\" x=\"410\">huge</tspan>\n",
              "    <tspan class=\"displacy-tag\" dy=\"2em\" fill=\"currentColor\" x=\"410\">ADJ</tspan>\n",
              "</text>\n",
              "\n",
              "<text class=\"displacy-token\" fill=\"currentColor\" text-anchor=\"middle\" y=\"167.0\">\n",
              "    <tspan class=\"displacy-word\" fill=\"currentColor\" x=\"530\">fees</tspan>\n",
              "    <tspan class=\"displacy-tag\" dy=\"2em\" fill=\"currentColor\" x=\"530\">NOUN</tspan>\n",
              "</text>\n",
              "\n",
              "<g class=\"displacy-arrow\">\n",
              "    <path class=\"displacy-arc\" id=\"arrow-4ba2be7272f24dbd8fc3123b7139869e-0-0\" stroke-width=\"2px\" d=\"M70,122.0 C70,62.0 165.0,62.0 165.0,122.0\" fill=\"none\" stroke=\"currentColor\"/>\n",
              "    <text dy=\"1.25em\" style=\"font-size: 0.8em; letter-spacing: 1px\">\n",
              "        <textPath xlink:href=\"#arrow-4ba2be7272f24dbd8fc3123b7139869e-0-0\" class=\"displacy-label\" startOffset=\"50%\" side=\"left\" fill=\"currentColor\" text-anchor=\"middle\">amod</textPath>\n",
              "    </text>\n",
              "    <path class=\"displacy-arrowhead\" d=\"M70,124.0 L62,112.0 78,112.0\" fill=\"currentColor\"/>\n",
              "</g>\n",
              "\n",
              "<g class=\"displacy-arrow\">\n",
              "    <path class=\"displacy-arc\" id=\"arrow-4ba2be7272f24dbd8fc3123b7139869e-0-1\" stroke-width=\"2px\" d=\"M190,122.0 C190,62.0 285.0,62.0 285.0,122.0\" fill=\"none\" stroke=\"currentColor\"/>\n",
              "    <text dy=\"1.25em\" style=\"font-size: 0.8em; letter-spacing: 1px\">\n",
              "        <textPath xlink:href=\"#arrow-4ba2be7272f24dbd8fc3123b7139869e-0-1\" class=\"displacy-label\" startOffset=\"50%\" side=\"left\" fill=\"currentColor\" text-anchor=\"middle\">nsubj</textPath>\n",
              "    </text>\n",
              "    <path class=\"displacy-arrowhead\" d=\"M190,124.0 L182,112.0 198,112.0\" fill=\"currentColor\"/>\n",
              "</g>\n",
              "\n",
              "<g class=\"displacy-arrow\">\n",
              "    <path class=\"displacy-arc\" id=\"arrow-4ba2be7272f24dbd8fc3123b7139869e-0-2\" stroke-width=\"2px\" d=\"M430,122.0 C430,62.0 525.0,62.0 525.0,122.0\" fill=\"none\" stroke=\"currentColor\"/>\n",
              "    <text dy=\"1.25em\" style=\"font-size: 0.8em; letter-spacing: 1px\">\n",
              "        <textPath xlink:href=\"#arrow-4ba2be7272f24dbd8fc3123b7139869e-0-2\" class=\"displacy-label\" startOffset=\"50%\" side=\"left\" fill=\"currentColor\" text-anchor=\"middle\">amod</textPath>\n",
              "    </text>\n",
              "    <path class=\"displacy-arrowhead\" d=\"M430,124.0 L422,112.0 438,112.0\" fill=\"currentColor\"/>\n",
              "</g>\n",
              "\n",
              "<g class=\"displacy-arrow\">\n",
              "    <path class=\"displacy-arc\" id=\"arrow-4ba2be7272f24dbd8fc3123b7139869e-0-3\" stroke-width=\"2px\" d=\"M310,122.0 C310,2.0 530.0,2.0 530.0,122.0\" fill=\"none\" stroke=\"currentColor\"/>\n",
              "    <text dy=\"1.25em\" style=\"font-size: 0.8em; letter-spacing: 1px\">\n",
              "        <textPath xlink:href=\"#arrow-4ba2be7272f24dbd8fc3123b7139869e-0-3\" class=\"displacy-label\" startOffset=\"50%\" side=\"left\" fill=\"currentColor\" text-anchor=\"middle\">dobj</textPath>\n",
              "    </text>\n",
              "    <path class=\"displacy-arrowhead\" d=\"M530.0,124.0 L538.0,112.0 522.0,112.0\" fill=\"currentColor\"/>\n",
              "</g>\n",
              "</svg></span>"
            ],
            "text/plain": [
              "<IPython.core.display.HTML object>"
            ]
          },
          "metadata": {}
        }
      ]
    },
    {
      "cell_type": "markdown",
      "metadata": {
        "id": "ADsMnpR5t3G8"
      },
      "source": [
        "In the above image, the arrows represent the dependency between two words in which the word at the arrowhead is the child, and the word at the end of the arrow is head. The root word can act as the head of multiple words in a sentence but is not a child of any other word. You can see above that the word ‘took’ has multiple outgoing arrows but none incoming. Therefore, it is the root word. One interesting thing about the root word is that if you start tracing the dependencies in a sentence you can reach the root word, no matter from which word you start."
      ]
    },
    {
      "cell_type": "markdown",
      "metadata": {
        "id": "BTbonLtU4_O2"
      },
      "source": [
        "# Method 2: Using NLTK with Stanford CoreNLP\n",
        "\n",
        "CoreNLP, created by Stanford NLP Group, provides NLP tools in Java. This Java library can be used with NLTK to parse dependencies in Python."
      ]
    },
    {
      "cell_type": "code",
      "metadata": {
        "id": "4XpWqCzz5MDq"
      },
      "source": [
        "from nltk.parse.stanford import StanfordDependencyParser"
      ],
      "execution_count": 23,
      "outputs": []
    },
    {
      "cell_type": "markdown",
      "metadata": {
        "id": "jxKfS_bj-awE"
      },
      "source": [
        "Running these three commands will download the required libraries and unzip the zip file."
      ]
    },
    {
      "cell_type": "code",
      "metadata": {
        "colab": {
          "base_uri": "https://localhost:8080/"
        },
        "id": "1cTGicad9x0C",
        "outputId": "64fbdfdb-da01-4e22-8318-80c7884d8bfd"
      },
      "source": [
        "! wget https://nlp.stanford.edu/software/stanford-corenlp-4.2.2.zip\n",
        "! wget https://nlp.stanford.edu/software/stanford-corenlp-4.2.2-models-english.jar\n"
      ],
      "execution_count": 35,
      "outputs": [
        {
          "output_type": "stream",
          "name": "stdout",
          "text": [
            "--2021-09-14 06:30:46--  https://nlp.stanford.edu/software/stanford-corenlp-4.2.2.zip\n",
            "Resolving nlp.stanford.edu (nlp.stanford.edu)... 171.64.67.140\n",
            "Connecting to nlp.stanford.edu (nlp.stanford.edu)|171.64.67.140|:443... connected.\n",
            "HTTP request sent, awaiting response... 302 FOUND\n",
            "Location: https://downloads.cs.stanford.edu/nlp/software/stanford-corenlp-4.2.2.zip [following]\n",
            "--2021-09-14 06:30:47--  https://downloads.cs.stanford.edu/nlp/software/stanford-corenlp-4.2.2.zip\n",
            "Resolving downloads.cs.stanford.edu (downloads.cs.stanford.edu)... 171.64.64.22\n",
            "Connecting to downloads.cs.stanford.edu (downloads.cs.stanford.edu)|171.64.64.22|:443... connected.\n",
            "HTTP request sent, awaiting response... 200 OK\n",
            "Length: 504278711 (481M) [application/zip]\n",
            "Saving to: ‘stanford-corenlp-4.2.2.zip.2’\n",
            "\n",
            "stanford-corenlp-4. 100%[===================>] 480.92M  5.05MB/s    in 93s     \n",
            "\n",
            "2021-09-14 06:32:20 (5.19 MB/s) - ‘stanford-corenlp-4.2.2.zip.2’ saved [504278711/504278711]\n",
            "\n",
            "--2021-09-14 06:32:20--  https://nlp.stanford.edu/software/stanford-corenlp-4.2.2-models-english.jar\n",
            "Resolving nlp.stanford.edu (nlp.stanford.edu)... 171.64.67.140\n",
            "Connecting to nlp.stanford.edu (nlp.stanford.edu)|171.64.67.140|:443... connected.\n",
            "HTTP request sent, awaiting response... 302 FOUND\n",
            "Location: https://downloads.cs.stanford.edu/nlp/software/stanford-corenlp-4.2.2-models-english.jar [following]\n",
            "--2021-09-14 06:32:20--  https://downloads.cs.stanford.edu/nlp/software/stanford-corenlp-4.2.2-models-english.jar\n",
            "Resolving downloads.cs.stanford.edu (downloads.cs.stanford.edu)... 171.64.64.22\n",
            "Connecting to downloads.cs.stanford.edu (downloads.cs.stanford.edu)|171.64.64.22|:443... connected.\n",
            "HTTP request sent, awaiting response... 200 OK\n",
            "Length: 444735210 (424M) [application/java-archive]\n",
            "Saving to: ‘stanford-corenlp-4.2.2-models-english.jar.1’\n",
            "\n",
            "stanford-corenlp-4. 100%[===================>] 424.13M  5.02MB/s    in 81s     \n",
            "\n",
            "2021-09-14 06:33:42 (5.23 MB/s) - ‘stanford-corenlp-4.2.2-models-english.jar.1’ saved [444735210/444735210]\n",
            "\n"
          ]
        }
      ]
    },
    {
      "cell_type": "code",
      "metadata": {
        "colab": {
          "base_uri": "https://localhost:8080/"
        },
        "id": "xSKS42fhBHib",
        "outputId": "addd7326-30cc-47e5-f145-8411e312e447"
      },
      "source": [
        "! unzip /content/stanford-corenlp-4.2.2.zip\n"
      ],
      "execution_count": 38,
      "outputs": [
        {
          "output_type": "stream",
          "name": "stdout",
          "text": [
            "Archive:  /content/stanford-corenlp-4.2.2.zip\n",
            "   creating: stanford-corenlp-4.2.2/\n",
            "   creating: stanford-corenlp-4.2.2/patterns/\n",
            "  inflating: stanford-corenlp-4.2.2/patterns/names.txt  \n",
            " extracting: stanford-corenlp-4.2.2/patterns/otherpeople.txt  \n",
            "  inflating: stanford-corenlp-4.2.2/patterns/example.properties  \n",
            "  inflating: stanford-corenlp-4.2.2/patterns/presidents.txt  \n",
            "  inflating: stanford-corenlp-4.2.2/patterns/goldnames.txt  \n",
            " extracting: stanford-corenlp-4.2.2/patterns/places.txt  \n",
            "  inflating: stanford-corenlp-4.2.2/patterns/stopwords.txt  \n",
            " extracting: stanford-corenlp-4.2.2/patterns/goldplaces.txt  \n",
            "  inflating: stanford-corenlp-4.2.2/stanford-corenlp-4.2.2-sources.jar  \n",
            "  inflating: stanford-corenlp-4.2.2/pom-java-11.xml  \n",
            "  inflating: stanford-corenlp-4.2.2/input.txt.out  \n",
            "  inflating: stanford-corenlp-4.2.2/LIBRARY-LICENSES  \n",
            "  inflating: stanford-corenlp-4.2.2/istack-commons-runtime-3.0.7.jar  \n",
            "  inflating: stanford-corenlp-4.2.2/build.xml  \n",
            "  inflating: stanford-corenlp-4.2.2/jollyday.jar  \n",
            "  inflating: stanford-corenlp-4.2.2/StanfordDependenciesManual.pdf  \n",
            "  inflating: stanford-corenlp-4.2.2/javax.activation-api-1.2.0-sources.jar  \n",
            "  inflating: stanford-corenlp-4.2.2/pom.xml  \n",
            "  inflating: stanford-corenlp-4.2.2/javax.activation-api-1.2.0.jar  \n",
            "  inflating: stanford-corenlp-4.2.2/LICENSE.txt  \n",
            "  inflating: stanford-corenlp-4.2.2/jaxb-api-2.4.0-b180830.0359-sources.jar  \n",
            "  inflating: stanford-corenlp-4.2.2/StanfordCoreNlpDemo.java  \n",
            "  inflating: stanford-corenlp-4.2.2/joda-time-2.10.5-sources.jar  \n",
            "  inflating: stanford-corenlp-4.2.2/ejml-simple-0.39-sources.jar  \n",
            "  inflating: stanford-corenlp-4.2.2/ejml-ddense-0.39-sources.jar  \n",
            "   creating: stanford-corenlp-4.2.2/sutime/\n",
            "  inflating: stanford-corenlp-4.2.2/sutime/english.sutime.txt  \n",
            "  inflating: stanford-corenlp-4.2.2/sutime/spanish.sutime.txt  \n",
            "  inflating: stanford-corenlp-4.2.2/sutime/british.sutime.txt  \n",
            "  inflating: stanford-corenlp-4.2.2/sutime/english.holidays.sutime.txt  \n",
            "  inflating: stanford-corenlp-4.2.2/sutime/defs.sutime.txt  \n",
            "  inflating: stanford-corenlp-4.2.2/input.txt  \n",
            "  inflating: stanford-corenlp-4.2.2/slf4j-simple.jar  \n",
            "  inflating: stanford-corenlp-4.2.2/jaxb-impl-2.4.0-b180830.0438-sources.jar  \n",
            "  inflating: stanford-corenlp-4.2.2/README.txt  \n",
            "  inflating: stanford-corenlp-4.2.2/javax.json.jar  \n",
            "  inflating: stanford-corenlp-4.2.2/jollyday-0.4.9-sources.jar  \n",
            "   creating: stanford-corenlp-4.2.2/tokensregex/\n",
            "  inflating: stanford-corenlp-4.2.2/tokensregex/retokenize.txt  \n",
            "  inflating: stanford-corenlp-4.2.2/tokensregex/color.input.txt  \n",
            "  inflating: stanford-corenlp-4.2.2/tokensregex/color.properties  \n",
            "  inflating: stanford-corenlp-4.2.2/tokensregex/color.rules.txt  \n",
            "  inflating: stanford-corenlp-4.2.2/ejml-core-0.39-sources.jar  \n",
            "  inflating: stanford-corenlp-4.2.2/stanford-corenlp-4.2.2.jar  \n",
            "  inflating: stanford-corenlp-4.2.2/joda-time.jar  \n",
            "  inflating: stanford-corenlp-4.2.2/ejml-simple-0.39.jar  \n",
            "  inflating: stanford-corenlp-4.2.2/CoreNLP-to-HTML.xsl  \n",
            "  inflating: stanford-corenlp-4.2.2/xom.jar  \n",
            "  inflating: stanford-corenlp-4.2.2/xom-1.3.2-sources.jar  \n",
            "  inflating: stanford-corenlp-4.2.2/corenlp.sh  \n",
            "  inflating: stanford-corenlp-4.2.2/RESOURCE-LICENSES  \n",
            "  inflating: stanford-corenlp-4.2.2/input.txt.xml  \n",
            "  inflating: stanford-corenlp-4.2.2/protobuf-java-3.11.4.jar  \n",
            "  inflating: stanford-corenlp-4.2.2/Makefile  \n",
            "  inflating: stanford-corenlp-4.2.2/ShiftReduceDemo.java  \n",
            "  inflating: stanford-corenlp-4.2.2/javax.json-api-1.0-sources.jar  \n",
            "  inflating: stanford-corenlp-4.2.2/stanford-corenlp-4.2.2-models.jar  \n",
            "  inflating: stanford-corenlp-4.2.2/stanford-corenlp-4.2.2-javadoc.jar  \n",
            "  inflating: stanford-corenlp-4.2.2/ejml-core-0.39.jar  \n",
            "  inflating: stanford-corenlp-4.2.2/SemgrexDemo.java  \n",
            "  inflating: stanford-corenlp-4.2.2/jaxb-impl-2.4.0-b180830.0438.jar  \n",
            "  inflating: stanford-corenlp-4.2.2/jaxb-api-2.4.0-b180830.0359.jar  \n",
            "  inflating: stanford-corenlp-4.2.2/slf4j-api.jar  \n",
            "  inflating: stanford-corenlp-4.2.2/istack-commons-runtime-3.0.7-sources.jar  \n",
            "  inflating: stanford-corenlp-4.2.2/ejml-ddense-0.39.jar  \n"
          ]
        }
      ]
    },
    {
      "cell_type": "code",
      "metadata": {
        "colab": {
          "base_uri": "https://localhost:8080/"
        },
        "id": "CNSraG7n75KU",
        "outputId": "4a57b113-9a2e-4c0a-dbb4-667f91bc304c"
      },
      "source": [
        "from nltk.parse.stanford import StanfordDependencyParser\n",
        "\n",
        "# Path to CoreNLP jar unzipped\n",
        "jar_path = '/content/stanford-corenlp-4.2.2/stanford-corenlp-4.2.2.jar'\n",
        "\n",
        "# Path to CoreNLP model jar\n",
        "models_jar_path = '/content/stanford-corenlp-4.2.2-models-english.jar'\n",
        "\n",
        "sentence = 'Deemed universities charge huge fees'\n",
        "\n",
        "# Initialize StanfordDependency Parser from the path\n",
        "parser = StanfordDependencyParser(path_to_jar = jar_path, path_to_models_jar = models_jar_path)\n",
        "\n",
        "# Parse the sentence\n",
        "result = parser.raw_parse(sentence)\n",
        "dependency = result.__next__()\n",
        "\n",
        "\n",
        "print (\"{:<15} | {:<10} | {:<10} | {:<15} | {:<10}\".format('Head', 'Head POS','Relation','Dependent', 'Dependent POS'))\n",
        "print (\"-\" * 75)\n",
        "  \n",
        "# Use dependency.triples() to extract the dependency triples in the form\n",
        "# ((head word, head POS), relation, (dependent word, dependent POS))  \n",
        "for dep in list(dependency.triples()):\n",
        "  print (\"{:<15} | {:<10} | {:<10} | {:<15} | {:<10}\"\n",
        "         .format(str(dep[0][0]),str(dep[0][1]), str(dep[1]), str(dep[2][0]),str(dep[2][1])))"
      ],
      "execution_count": 40,
      "outputs": [
        {
          "output_type": "stream",
          "name": "stdout",
          "text": [
            "Head            | Head POS   | Relation   | Dependent       | Dependent POS\n",
            "---------------------------------------------------------------------------\n",
            "charge          | VBP        | nsubj      | universities    | NNS       \n",
            "universities    | NNS        | compound   | Deemed          | NNP       \n",
            "charge          | VBP        | obj        | fees            | NNS       \n",
            "fees            | NNS        | amod       | huge            | JJ        \n"
          ]
        }
      ]
    },
    {
      "cell_type": "markdown",
      "metadata": {
        "id": "7M2hYJDKCFdj"
      },
      "source": [
        "To visualize the dependency generated by CoreNLP, we can either extract a labeled and directed NetworkX Graph object using dependency.nx_graph() function or we can generate a DOT definition in Graph Description Language using dependency.to_dot() function. The DOT definition can be visualized as a graph using GraphViz."
      ]
    },
    {
      "cell_type": "markdown",
      "metadata": {
        "id": "g0ADN_V-Cbql"
      },
      "source": [
        "# Visualize using NetworkX"
      ]
    },
    {
      "cell_type": "code",
      "metadata": {
        "colab": {
          "base_uri": "https://localhost:8080/",
          "height": 319
        },
        "id": "RCVGue2j9R5f",
        "outputId": "69d6d7cd-1a16-433b-9293-723e093fa70d"
      },
      "source": [
        "# importing networkx\n",
        "import networkx as nx\n",
        "import matplotlib.pyplot as plt\n",
        "# Using reverse() to reverse the direction of edges as nx_graph() returns inverted edges\n",
        "G = dependency.nx_graph().reverse()\n",
        "# nx_graph() returns numeric node labels starting from 1\n",
        "# Create a dictionary to map numeric nodes and words in the sentence\n",
        "words = sentence.split(\" \")\n",
        "labels = {index + 1: words[index] for index in range(len(words))}\n",
        "nx.draw(G, with_labels=True, labels=labels, node_size=2500, node_color='#B5EAD7', font_size=10)\n",
        "\n",
        "\n",
        "\n"
      ],
      "execution_count": 52,
      "outputs": [
        {
          "output_type": "display_data",
          "data": {
            "image/png": "[encoded data removed]",
            "text/plain": [
              "<Figure size 432x288 with 1 Axes>"
            ]
          },
          "metadata": {}
        }
      ]
    },
    {
      "cell_type": "markdown",
      "metadata": {
        "id": "PQZr_TFeC3oV"
      },
      "source": [
        "Dependency Graph created from NetworkX Object"
      ]
    },
    {
      "cell_type": "markdown",
      "metadata": {
        "id": "HfFa5OQNC8zM"
      },
      "source": [
        "# Visualize using DOT Definition"
      ]
    },
    {
      "cell_type": "code",
      "metadata": {
        "colab": {
          "base_uri": "https://localhost:8080/"
        },
        "id": "Wi11ka4HDXNi",
        "outputId": "a9b96815-c171-4bae-ae2f-d9447488183b"
      },
      "source": [
        "! pip install graphviz"
      ],
      "execution_count": 54,
      "outputs": [
        {
          "output_type": "stream",
          "name": "stdout",
          "text": [
            "Requirement already satisfied: graphviz in /usr/local/lib/python3.7/dist-packages (0.10.1)\n"
          ]
        }
      ]
    },
    {
      "cell_type": "code",
      "metadata": {
        "colab": {
          "base_uri": "https://localhost:8080/",
          "height": 35
        },
        "id": "jkvUnsezDQ_x",
        "outputId": "3a0193e7-0bee-4f3b-a4fb-beec604a8801"
      },
      "source": [
        "\n",
        "from graphviz import Source\n",
        "dot_def = dependency.to_dot()\n",
        "'''\n",
        "The below lines require graphviz executables to be installed to your system. If that does not work, print the dot_def object and paste the output on http://graphs.grevian.org/graph/\n",
        "'''\n",
        "source = Source(dot_def, filename=\"dependency_graph\", format=\"png\")\n",
        "source.view()"
      ],
      "execution_count": 55,
      "outputs": [
        {
          "output_type": "execute_result",
          "data": {
            "application/vnd.google.colaboratory.intrinsic+json": {
              "type": "string"
            },
            "text/plain": [
              "'dependency_graph.png'"
            ]
          },
          "metadata": {},
          "execution_count": 55
        }
      ]
    },
    {
      "cell_type": "markdown",
      "metadata": {
        "id": "tqs4lVvpEHeC"
      },
      "source": [
        "![image.png](data:image/png;base64,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)"
      ]
    },
    {
      "cell_type": "markdown",
      "metadata": {
        "id": "AZIcIlOPHjGO"
      },
      "source": [
        "# Method 3: Using Stanza\n",
        "Stanford NLP Group have also developed Stanza. It provides a Neural Network NLP Pipeline that can be customized and a Python wrapper over Stanford CoreNLP package, making it easier to use the CoreNLP features without downloading the jar files."
      ]
    },
    {
      "cell_type": "code",
      "metadata": {
        "colab": {
          "base_uri": "https://localhost:8080/"
        },
        "id": "X2NMz-q4HiZF",
        "outputId": "e2e3314a-9a51-4a2f-c219-63b9f28dfa33"
      },
      "source": [
        "! pip install stanza"
      ],
      "execution_count": 57,
      "outputs": [
        {
          "output_type": "stream",
          "name": "stdout",
          "text": [
            "Collecting stanza\n",
            "  Downloading stanza-1.2.3-py3-none-any.whl (342 kB)\n",
            "\u001b[?25l\r\u001b[K     |█                               | 10 kB 23.2 MB/s eta 0:00:01\r\u001b[K     |██                              | 20 kB 25.7 MB/s eta 0:00:01\r\u001b[K     |██▉                             | 30 kB 28.0 MB/s eta 0:00:01\r\u001b[K     |███▉                            | 40 kB 29.6 MB/s eta 0:00:01\r\u001b[K     |████▉                           | 51 kB 31.4 MB/s eta 0:00:01\r\u001b[K     |█████▊                          | 61 kB 34.0 MB/s eta 0:00:01\r\u001b[K     |██████▊                         | 71 kB 34.3 MB/s eta 0:00:01\r\u001b[K     |███████▋                        | 81 kB 35.3 MB/s eta 0:00:01\r\u001b[K     |████████▋                       | 92 kB 36.0 MB/s eta 0:00:01\r\u001b[K     |█████████▋                      | 102 kB 32.7 MB/s eta 0:00:01\r\u001b[K     |██████████▌                     | 112 kB 32.7 MB/s eta 0:00:01\r\u001b[K     |███████████▌                    | 122 kB 32.7 MB/s eta 0:00:01\r\u001b[K     |████████████▌                   | 133 kB 32.7 MB/s eta 0:00:01\r\u001b[K     |█████████████▍                  | 143 kB 32.7 MB/s eta 0:00:01\r\u001b[K     |██████████████▍                 | 153 kB 32.7 MB/s eta 0:00:01\r\u001b[K     |███████████████▎                | 163 kB 32.7 MB/s eta 0:00:01\r\u001b[K     |████████████████▎               | 174 kB 32.7 MB/s eta 0:00:01\r\u001b[K     |█████████████████▎              | 184 kB 32.7 MB/s eta 0:00:01\r\u001b[K     |██████████████████▏             | 194 kB 32.7 MB/s eta 0:00:01\r\u001b[K     |███████████████████▏            | 204 kB 32.7 MB/s eta 0:00:01\r\u001b[K     |████████████████████▏           | 215 kB 32.7 MB/s eta 0:00:01\r\u001b[K     |█████████████████████           | 225 kB 32.7 MB/s eta 0:00:01\r\u001b[K     |██████████████████████          | 235 kB 32.7 MB/s eta 0:00:01\r\u001b[K     |███████████████████████         | 245 kB 32.7 MB/s eta 0:00:01\r\u001b[K     |████████████████████████        | 256 kB 32.7 MB/s eta 0:00:01\r\u001b[K     |█████████████████████████       | 266 kB 32.7 MB/s eta 0:00:01\r\u001b[K     |█████████████████████████▉      | 276 kB 32.7 MB/s eta 0:00:01\r\u001b[K     |██████████████████████████▉     | 286 kB 32.7 MB/s eta 0:00:01\r\u001b[K     |███████████████████████████▊    | 296 kB 32.7 MB/s eta 0:00:01\r\u001b[K     |████████████████████████████▊   | 307 kB 32.7 MB/s eta 0:00:01\r\u001b[K     |█████████████████████████████▊  | 317 kB 32.7 MB/s eta 0:00:01\r\u001b[K     |██████████████████████████████▋ | 327 kB 32.7 MB/s eta 0:00:01\r\u001b[K     |███████████████████████████████▋| 337 kB 32.7 MB/s eta 0:00:01\r\u001b[K     |████████████████████████████████| 342 kB 32.7 MB/s \n",
            "\u001b[?25hRequirement already satisfied: protobuf in /usr/local/lib/python3.7/dist-packages (from stanza) (3.17.3)\n",
            "Requirement already satisfied: tqdm in /usr/local/lib/python3.7/dist-packages (from stanza) (4.62.0)\n",
            "Requirement already satisfied: requests in /usr/local/lib/python3.7/dist-packages (from stanza) (2.23.0)\n",
            "Requirement already satisfied: torch>=1.3.0 in /usr/local/lib/python3.7/dist-packages (from stanza) (1.9.0+cu102)\n",
            "Requirement already satisfied: numpy in /usr/local/lib/python3.7/dist-packages (from stanza) (1.19.5)\n",
            "Requirement already satisfied: typing-extensions in /usr/local/lib/python3.7/dist-packages (from torch>=1.3.0->stanza) (3.7.4.3)\n",
            "Requirement already satisfied: six>=1.9 in /usr/local/lib/python3.7/dist-packages (from protobuf->stanza) (1.15.0)\n",
            "Requirement already satisfied: urllib3!=1.25.0,!=1.25.1,<1.26,>=1.21.1 in /usr/local/lib/python3.7/dist-packages (from requests->stanza) (1.24.3)\n",
            "Requirement already satisfied: chardet<4,>=3.0.2 in /usr/local/lib/python3.7/dist-packages (from requests->stanza) (3.0.4)\n",
            "Requirement already satisfied: certifi>=2017.4.17 in /usr/local/lib/python3.7/dist-packages (from requests->stanza) (2021.5.30)\n",
            "Requirement already satisfied: idna<3,>=2.5 in /usr/local/lib/python3.7/dist-packages (from requests->stanza) (2.10)\n",
            "Installing collected packages: stanza\n",
            "Successfully installed stanza-1.2.3\n"
          ]
        }
      ]
    },
    {
      "cell_type": "code",
      "metadata": {
        "colab": {
          "base_uri": "https://localhost:8080/",
          "height": 114,
          "referenced_widgets": [
            "798f438d521049bf9e93284cd115ece4",
            "5f4a6601e2fc4822ba27ee8fd1ba6f1c",
            "4a6618c29dbe48ee9bece6d862dbd7fc",
            "ac482d26ea3d44a78ecad0e6b74e6917",
            "0b500cd29966429fb9e23b7e8e62cb40",
            "64a57b2f49a140f08daf6a25918e028a",
            "5f2fe67ead8947709c44b33d3f03285e",
            "d7af3b8946654bddb1a95f88166f15be",
            "71445d6fc0284e898996ce9551de5897",
            "72d9c4b3235642beb923d0ed2faf8bf9",
            "2d71a2d2e3564ac289d4e255f46cccb2",
            "109a457d0e294344a23d88f017a2ba5d",
            "d4941948ef3a412a8604d037f907b10a",
            "269c5e09b06c4389bd9c0d844ef6fefa",
            "ba967219c92d4852a8a56eac3590c0bf",
            "70b447524b9944f18bdd840e421a988f",
            "d6c54bd162094c1f8835bd257ff8f437",
            "a5f99806a55b49bdb22f3c8664620cb9",
            "ef6856651ba04c69a8ac5dcba413e3c8",
            "cd2a7ea2e6494e3dae0902887f04dde9",
            "abaa30c406e14faeb0585c8a31fc3617",
            "2a52dc4e4efb41ab8828da190dabb831"
          ]
        },
        "id": "deeTBEa_Hnjt",
        "outputId": "3b08e46a-ae31-471b-e50e-8396df8012be"
      },
      "source": [
        "import stanza\n",
        "stanza.download('en')"
      ],
      "execution_count": 58,
      "outputs": [
        {
          "output_type": "display_data",
          "data": {
            "application/vnd.jupyter.widget-view+json": {
              "model_id": "798f438d521049bf9e93284cd115ece4",
              "version_minor": 0,
              "version_major": 2
            },
            "text/plain": [
              "Downloading https://raw.githubusercontent.com/stanfordnlp/stanza-resources/main/resources_1.2.2.json:   0%|   …"
            ]
          },
          "metadata": {}
        },
        {
          "output_type": "stream",
          "name": "stderr",
          "text": [
            "2021-09-14 07:04:13 INFO: Downloading default packages for language: en (English)...\n"
          ]
        },
        {
          "output_type": "display_data",
          "data": {
            "application/vnd.jupyter.widget-view+json": {
              "model_id": "109a457d0e294344a23d88f017a2ba5d",
              "version_minor": 0,
              "version_major": 2
            },
            "text/plain": [
              "Downloading http://nlp.stanford.edu/software/stanza/1.2.2/en/default.zip:   0%|          | 0.00/412M [00:00<?,…"
            ]
          },
          "metadata": {}
        },
        {
          "output_type": "stream",
          "name": "stderr",
          "text": [
            "2021-09-14 07:05:35 INFO: Finished downloading models and saved to /root/stanza_resources.\n"
          ]
        }
      ]
    },
    {
      "cell_type": "markdown",
      "metadata": {
        "id": "QWBLJR3dHtxE"
      },
      "source": [
        "Initialize the neural pipeline using stanza.Pipeline() function. The first parameter is the language to use. An optional parameter processors can be passed which can be a dictionary or a comma separated string to configure the processors to use in the pipeline."
      ]
    },
    {
      "cell_type": "code",
      "metadata": {
        "colab": {
          "base_uri": "https://localhost:8080/"
        },
        "id": "lEh7cJEHH17L",
        "outputId": "0994d13b-e77d-4554-fd34-af7fa6fd6bee"
      },
      "source": [
        "nlp = stanza.Pipeline('en',\n",
        "                     processors = 'tokenize,mwt,pos,lemma,depparse')"
      ],
      "execution_count": 59,
      "outputs": [
        {
          "output_type": "stream",
          "name": "stderr",
          "text": [
            "2021-09-14 07:06:04 WARNING: Can not find mwt: default from official model list. Ignoring it.\n",
            "2021-09-14 07:06:04 INFO: Loading these models for language: en (English):\n",
            "========================\n",
            "| Processor | Package  |\n",
            "------------------------\n",
            "| tokenize  | combined |\n",
            "| pos       | combined |\n",
            "| lemma     | combined |\n",
            "| depparse  | combined |\n",
            "========================\n",
            "\n",
            "2021-09-14 07:06:04 INFO: Use device: cpu\n",
            "2021-09-14 07:06:04 INFO: Loading: tokenize\n",
            "2021-09-14 07:06:04 INFO: Loading: pos\n",
            "2021-09-14 07:06:04 INFO: Loading: lemma\n",
            "2021-09-14 07:06:04 INFO: Loading: depparse\n",
            "2021-09-14 07:06:05 INFO: Done loading processors!\n"
          ]
        }
      ]
    },
    {
      "cell_type": "markdown",
      "metadata": {
        "id": "ACY7eTocIPQU"
      },
      "source": [
        "You can find the list of all processors on Pipeline and Processors. Some of the processors might require to be preceded by some other processor in the pipeline, else they won’t work. For example, pos processor requires tokenizeand mwt processors, so we need to use these two processors in the pipeline as well if we want to use pos processor.\n",
        "We will now pass our sentence through the pipeline and store all the results in doc variable."
      ]
    },
    {
      "cell_type": "code",
      "metadata": {
        "id": "8Xm10fOvIJNZ"
      },
      "source": [
        "doc = nlp(sentence)"
      ],
      "execution_count": 60,
      "outputs": []
    },
    {
      "cell_type": "code",
      "metadata": {
        "colab": {
          "base_uri": "https://localhost:8080/"
        },
        "id": "P-912C0fIV8O",
        "outputId": "ee57e902-a066-4ed6-bb73-a2d8844c63a8"
      },
      "source": [
        "doc.sentences"
      ],
      "execution_count": 61,
      "outputs": [
        {
          "output_type": "execute_result",
          "data": {
            "text/plain": [
              "[[\n",
              "   {\n",
              "     \"id\": 1,\n",
              "     \"text\": \"Deemed\",\n",
              "     \"lemma\": \"Deem\",\n",
              "     \"upos\": \"VERB\",\n",
              "     \"xpos\": \"VBN\",\n",
              "     \"feats\": \"Tense=Past|VerbForm=Part\",\n",
              "     \"head\": 2,\n",
              "     \"deprel\": \"amod\",\n",
              "     \"start_char\": 0,\n",
              "     \"end_char\": 6\n",
              "   },\n",
              "   {\n",
              "     \"id\": 2,\n",
              "     \"text\": \"universities\",\n",
              "     \"lemma\": \"university\",\n",
              "     \"upos\": \"NOUN\",\n",
              "     \"xpos\": \"NNS\",\n",
              "     \"feats\": \"Number=Plur\",\n",
              "     \"head\": 3,\n",
              "     \"deprel\": \"nsubj\",\n",
              "     \"start_char\": 7,\n",
              "     \"end_char\": 19\n",
              "   },\n",
              "   {\n",
              "     \"id\": 3,\n",
              "     \"text\": \"charge\",\n",
              "     \"lemma\": \"charge\",\n",
              "     \"upos\": \"VERB\",\n",
              "     \"xpos\": \"VBP\",\n",
              "     \"feats\": \"Mood=Ind|Tense=Pres|VerbForm=Fin\",\n",
              "     \"head\": 0,\n",
              "     \"deprel\": \"root\",\n",
              "     \"start_char\": 20,\n",
              "     \"end_char\": 26\n",
              "   },\n",
              "   {\n",
              "     \"id\": 4,\n",
              "     \"text\": \"huge\",\n",
              "     \"lemma\": \"huge\",\n",
              "     \"upos\": \"ADJ\",\n",
              "     \"xpos\": \"JJ\",\n",
              "     \"feats\": \"Degree=Pos\",\n",
              "     \"head\": 5,\n",
              "     \"deprel\": \"amod\",\n",
              "     \"start_char\": 27,\n",
              "     \"end_char\": 31\n",
              "   },\n",
              "   {\n",
              "     \"id\": 5,\n",
              "     \"text\": \"fees\",\n",
              "     \"lemma\": \"fee\",\n",
              "     \"upos\": \"NOUN\",\n",
              "     \"xpos\": \"NNS\",\n",
              "     \"feats\": \"Number=Plur\",\n",
              "     \"head\": 3,\n",
              "     \"deprel\": \"obj\",\n",
              "     \"start_char\": 32,\n",
              "     \"end_char\": 36\n",
              "   }\n",
              " ]]"
            ]
          },
          "metadata": {},
          "execution_count": 61
        }
      ]
    },
    {
      "cell_type": "markdown",
      "metadata": {
        "id": "QO-FrRK7Inmc"
      },
      "source": [
        "If we print doc.sentences , we will see a list for each of the sentence that was passed through the pipeline. Each list contains result of all token information and linguistic features."
      ]
    },
    {
      "cell_type": "markdown",
      "metadata": {
        "id": "wpB1mUD3I5eM"
      },
      "source": [
        "Note: In our case as we have only one sentence, we directly access it using doc.sentences[0]"
      ]
    },
    {
      "cell_type": "code",
      "metadata": {
        "colab": {
          "base_uri": "https://localhost:8080/",
          "height": 584,
          "referenced_widgets": [
            "629c65fd069247cd86f4b344bfd3ffba",
            "4d9c4c53a33045efb7ee95b15c7b51ed",
            "90ec8346020748418a36e4d8581a8b3d",
            "15e754afa5074062b2c8ce45705ab03b",
            "aa0af1592975415db1a80536588bfa18",
            "10c479886ab24030b405e176ab3834b9",
            "6bbf7d5fd5c745fda960c689487f3c23",
            "fcb2f6a0b7e144ada4d913b985b6d5f3",
            "b5d9092e5f3449ceaf2eab9a788fab78",
            "3ec6f9c083c547549a1b7c3a6d7e056d",
            "83c603b46ce947c28ea56f7f4fdf6f0b"
          ]
        },
        "id": "zfuzs1fLIbdz",
        "outputId": "88399930-b8a7-4ccb-92a2-add978ef2795"
      },
      "source": [
        "import stanza\n",
        "\n",
        "# Download the language model\n",
        "stanza.download('en')\n",
        "\n",
        "sentence = 'Deemed universities charge huge fees'\n",
        "\n",
        "# Build a Neural Pipeline\n",
        "nlp = stanza.Pipeline('en', processors = \"tokenize,mwt,pos,lemma,depparse\") \n",
        "\n",
        "# Pass the sentence through the pipeline\n",
        "doc = nlp(sentence)\n",
        "\n",
        "# Print the dependencies of the first sentence in the doc object\n",
        "# Format - (Token, Index of head, Nature of dependency)\n",
        "# Index starts from 1, 0 is reserved for ROOT\n",
        "doc.sentences[0].print_dependencies()\n",
        "\n",
        "\n",
        "print (\"{:<15} | {:<10} | {:<15} \".format('Token', 'Relation', 'Head'))\n",
        "print (\"-\" * 50)\n",
        "  \n",
        "# Convert sentence object to dictionary  \n",
        "sent_dict = doc.sentences[0].to_dict()\n",
        "\n",
        "# iterate to print the token, relation and head\n",
        "for word in sent_dict:\n",
        "  print (\"{:<15} | {:<10} | {:<15} \"\n",
        "         .format(str(word['text']),str(word['deprel']), str(sent_dict[word['head']-1]['text'] if word['head'] > 0 else 'ROOT')))\n"
      ],
      "execution_count": 62,
      "outputs": [
        {
          "output_type": "display_data",
          "data": {
            "application/vnd.jupyter.widget-view+json": {
              "model_id": "629c65fd069247cd86f4b344bfd3ffba",
              "version_minor": 0,
              "version_major": 2
            },
            "text/plain": [
              "Downloading https://raw.githubusercontent.com/stanfordnlp/stanza-resources/main/resources_1.2.2.json:   0%|   …"
            ]
          },
          "metadata": {}
        },
        {
          "output_type": "stream",
          "name": "stderr",
          "text": [
            "2021-09-14 07:09:56 INFO: Downloading default packages for language: en (English)...\n",
            "2021-09-14 07:09:57 INFO: File exists: /root/stanza_resources/en/default.zip.\n",
            "2021-09-14 07:10:03 INFO: Finished downloading models and saved to /root/stanza_resources.\n",
            "2021-09-14 07:10:03 WARNING: Can not find mwt: default from official model list. Ignoring it.\n",
            "2021-09-14 07:10:03 INFO: Loading these models for language: en (English):\n",
            "========================\n",
            "| Processor | Package  |\n",
            "------------------------\n",
            "| tokenize  | combined |\n",
            "| pos       | combined |\n",
            "| lemma     | combined |\n",
            "| depparse  | combined |\n",
            "========================\n",
            "\n",
            "2021-09-14 07:10:03 INFO: Use device: cpu\n",
            "2021-09-14 07:10:03 INFO: Loading: tokenize\n",
            "2021-09-14 07:10:03 INFO: Loading: pos\n",
            "2021-09-14 07:10:03 INFO: Loading: lemma\n",
            "2021-09-14 07:10:03 INFO: Loading: depparse\n",
            "2021-09-14 07:10:03 INFO: Done loading processors!\n"
          ]
        },
        {
          "output_type": "stream",
          "name": "stdout",
          "text": [
            "('Deemed', 2, 'amod')\n",
            "('universities', 3, 'nsubj')\n",
            "('charge', 0, 'root')\n",
            "('huge', 5, 'amod')\n",
            "('fees', 3, 'obj')\n",
            "Token           | Relation   | Head            \n",
            "--------------------------------------------------\n",
            "Deemed          | amod       | universities    \n",
            "universities    | nsubj      | charge          \n",
            "charge          | root       | ROOT            \n",
            "huge            | amod       | fees            \n",
            "fees            | obj        | charge          \n"
          ]
        }
      ]
    },
    {
      "cell_type": "markdown",
      "metadata": {
        "id": "_T_b2k-PyC-d"
      },
      "source": [
        "# Constituency Parsing\n",
        "Constituency Parsing is the process of analyzing the sentences by breaking down it into sub-phrases also known as constituents. These sub-phrases belong to a specific category of grammar like NP (noun phrase) and VP(verb phrase).\n",
        "\n",
        "![image.png](data:image/png;base64,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)\n",
        "\n",
        " \n",
        "\n",
        "Let’s understand it with the help of an example. Suppose I have the same sentence which I used in previous examples, i.e., “It took me more than two hours to translate a few pages of English.” and I have performed constituency parsing on it. Then, the constituency parse tree for this sentence is given by-"
      ]
    },
    {
      "cell_type": "code",
      "metadata": {
        "id": "a93uWB5kIS2a"
      },
      "source": [
        ""
      ],
      "execution_count": null,
      "outputs": []
    },
    {
      "cell_type": "code",
      "metadata": {
        "id": "cR3hGw-VC5hb"
      },
      "source": [
        ""
      ],
      "execution_count": null,
      "outputs": []
    },
    {
      "cell_type": "code",
      "metadata": {
        "id": "rJiN6u-n2aSd"
      },
      "source": [
        ""
      ],
      "execution_count": 20,
      "outputs": []
    }
  ]
}