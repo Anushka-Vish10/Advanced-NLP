{
  "nbformat": 4,
  "nbformat_minor": 0,
  "metadata": {
    "kernelspec": {
      "display_name": "Python 3",
      "language": "python",
      "name": "python3"
    },
    "language_info": {
      "codemirror_mode": {
        "name": "ipython",
        "version": 3
      },
      "file_extension": ".py",
      "mimetype": "text/x-python",
      "name": "python",
      "nbconvert_exporter": "python",
      "pygments_lexer": "ipython3",
      "version": "3.7.3"
    },
    "colab": {
      "name": "NER using spacy.ipynb",
      "provenance": []
    }
  },
  "cells": [
    {
      "cell_type": "code",
      "metadata": {
        "id": "O76R62A1usTy",
        "outputId": "2c08a9b9-20ef-435d-a130-92a6585edb32"
      },
      "source": [
        "!pip install spacy\n"
      ],
      "execution_count": null,
      "outputs": [
        {
          "name": "stdout",
          "output_type": "stream",
          "text": [
            "Requirement already satisfied: spacy in c:\\users\\chotu\\anaconda3\\lib\\site-packages (3.0.3)\n",
            "Requirement already satisfied: typing-extensions>=3.7.4; python_version < \"3.8\" in c:\\users\\chotu\\anaconda3\\lib\\site-packages (from spacy) (3.7.4.3)\n",
            "Requirement already satisfied: tqdm<5.0.0,>=4.38.0 in c:\\users\\chotu\\anaconda3\\lib\\site-packages (from spacy) (4.54.0)\n",
            "Requirement already satisfied: srsly<3.0.0,>=2.4.0 in c:\\users\\chotu\\anaconda3\\lib\\site-packages (from spacy) (2.4.0)\n",
            "Requirement already satisfied: catalogue<2.1.0,>=2.0.1 in c:\\users\\chotu\\anaconda3\\lib\\site-packages (from spacy) (2.0.1)\n",
            "Requirement already satisfied: jinja2 in c:\\users\\chotu\\anaconda3\\lib\\site-packages (from spacy) (2.10)\n",
            "Requirement already satisfied: blis<0.8.0,>=0.4.0 in c:\\users\\chotu\\anaconda3\\lib\\site-packages (from spacy) (0.7.3)\n",
            "Requirement already satisfied: numpy>=1.15.0 in c:\\users\\chotu\\anaconda3\\lib\\site-packages (from spacy) (1.20.1)\n",
            "Requirement already satisfied: pydantic<1.8.0,>=1.7.1 in c:\\users\\chotu\\anaconda3\\lib\\site-packages (from spacy) (1.7.3)\n",
            "Requirement already satisfied: packaging>=20.0 in c:\\users\\chotu\\anaconda3\\lib\\site-packages (from spacy) (20.9)\n",
            "Requirement already satisfied: spacy-legacy<3.1.0,>=3.0.0 in c:\\users\\chotu\\anaconda3\\lib\\site-packages (from spacy) (3.0.1)\n",
            "Requirement already satisfied: cymem<2.1.0,>=2.0.2 in c:\\users\\chotu\\anaconda3\\lib\\site-packages (from spacy) (2.0.4)\n",
            "Requirement already satisfied: pathy in c:\\users\\chotu\\anaconda3\\lib\\site-packages (from spacy) (0.4.0)\n",
            "Requirement already satisfied: murmurhash<1.1.0,>=0.28.0 in c:\\users\\chotu\\anaconda3\\lib\\site-packages (from spacy) (1.0.4)\n",
            "Requirement already satisfied: thinc<8.1.0,>=8.0.0 in c:\\users\\chotu\\anaconda3\\lib\\site-packages (from spacy) (8.0.1)\n",
            "Requirement already satisfied: wasabi<1.1.0,>=0.8.1 in c:\\users\\chotu\\anaconda3\\lib\\site-packages (from spacy) (0.8.2)\n",
            "Requirement already satisfied: setuptools in c:\\users\\chotu\\anaconda3\\lib\\site-packages (from spacy) (50.3.0)\n",
            "Requirement already satisfied: requests<3.0.0,>=2.13.0 in c:\\users\\chotu\\anaconda3\\lib\\site-packages (from spacy) (2.21.0)\n",
            "Requirement already satisfied: preshed<3.1.0,>=3.0.2 in c:\\users\\chotu\\anaconda3\\lib\\site-packages (from spacy) (3.0.4)\n",
            "Requirement already satisfied: importlib-metadata>=0.20; python_version < \"3.8\" in c:\\users\\chotu\\anaconda3\\lib\\site-packages (from spacy) (3.1.0)\n",
            "Requirement already satisfied: typer<0.4.0,>=0.3.0 in c:\\users\\chotu\\anaconda3\\lib\\site-packages (from spacy) (0.3.2)\n",
            "Requirement already satisfied: MarkupSafe>=0.23 in c:\\users\\chotu\\anaconda3\\lib\\site-packages (from jinja2->spacy) (1.1.1)\n",
            "Requirement already satisfied: pyparsing>=2.0.2 in c:\\users\\chotu\\anaconda3\\lib\\site-packages (from packaging>=20.0->spacy) (2.3.1)\n",
            "Requirement already satisfied: smart-open<4.0.0,>=2.2.0 in c:\\users\\chotu\\anaconda3\\lib\\site-packages (from pathy->spacy) (3.0.0)\n",
            "Requirement already satisfied: certifi>=2017.4.17 in c:\\users\\chotu\\anaconda3\\lib\\site-packages (from requests<3.0.0,>=2.13.0->spacy) (2019.3.9)\n",
            "Requirement already satisfied: idna<2.9,>=2.5 in c:\\users\\chotu\\anaconda3\\lib\\site-packages (from requests<3.0.0,>=2.13.0->spacy) (2.8)\n",
            "Requirement already satisfied: urllib3<1.25,>=1.21.1 in c:\\users\\chotu\\anaconda3\\lib\\site-packages (from requests<3.0.0,>=2.13.0->spacy) (1.24.1)\n",
            "Requirement already satisfied: chardet<3.1.0,>=3.0.2 in c:\\users\\chotu\\anaconda3\\lib\\site-packages (from requests<3.0.0,>=2.13.0->spacy) (3.0.4)\n",
            "Requirement already satisfied: zipp>=0.5 in c:\\users\\chotu\\anaconda3\\lib\\site-packages (from importlib-metadata>=0.20; python_version < \"3.8\"->spacy) (3.4.0)\n",
            "Requirement already satisfied: click<7.2.0,>=7.1.1 in c:\\users\\chotu\\anaconda3\\lib\\site-packages (from typer<0.4.0,>=0.3.0->spacy) (7.1.2)\n"
          ]
        },
        {
          "name": "stderr",
          "output_type": "stream",
          "text": [
            "WARNING: You are using pip version 20.2.3; however, version 21.1.2 is available.\n",
            "You should consider upgrading via the 'c:\\users\\chotu\\anaconda3\\python.exe -m pip install --upgrade pip' command.\n"
          ]
        }
      ]
    },
    {
      "cell_type": "code",
      "metadata": {
        "id": "I_8c_y5busT6",
        "outputId": "53d63aed-3ce3-409d-be5f-fd6c3a2e7488"
      },
      "source": [
        "!python -m spacy download en_core_web_sm"
      ],
      "execution_count": null,
      "outputs": [
        {
          "name": "stdout",
          "output_type": "stream",
          "text": [
            "Collecting en-core-web-sm==3.0.0\n",
            "  Downloading https://github.com/explosion/spacy-models/releases/download/en_core_web_sm-3.0.0/en_core_web_sm-3.0.0-py3-none-any.whl (13.7 MB)\n",
            "Requirement already satisfied: spacy<3.1.0,>=3.0.0 in c:\\users\\chotu\\anaconda3\\lib\\site-packages (from en-core-web-sm==3.0.0) (3.0.3)\n",
            "Requirement already satisfied: typer<0.4.0,>=0.3.0 in c:\\users\\chotu\\anaconda3\\lib\\site-packages (from spacy<3.1.0,>=3.0.0->en-core-web-sm==3.0.0) (0.3.2)\n",
            "Requirement already satisfied: srsly<3.0.0,>=2.4.0 in c:\\users\\chotu\\anaconda3\\lib\\site-packages (from spacy<3.1.0,>=3.0.0->en-core-web-sm==3.0.0) (2.4.0)\n",
            "Requirement already satisfied: numpy>=1.15.0 in c:\\users\\chotu\\anaconda3\\lib\\site-packages (from spacy<3.1.0,>=3.0.0->en-core-web-sm==3.0.0) (1.20.1)\n",
            "Requirement already satisfied: jinja2 in c:\\users\\chotu\\anaconda3\\lib\\site-packages (from spacy<3.1.0,>=3.0.0->en-core-web-sm==3.0.0) (2.10)\n",
            "Requirement already satisfied: pathy in c:\\users\\chotu\\anaconda3\\lib\\site-packages (from spacy<3.1.0,>=3.0.0->en-core-web-sm==3.0.0) (0.4.0)\n",
            "Requirement already satisfied: preshed<3.1.0,>=3.0.2 in c:\\users\\chotu\\anaconda3\\lib\\site-packages (from spacy<3.1.0,>=3.0.0->en-core-web-sm==3.0.0) (3.0.4)\n",
            "Requirement already satisfied: blis<0.8.0,>=0.4.0 in c:\\users\\chotu\\anaconda3\\lib\\site-packages (from spacy<3.1.0,>=3.0.0->en-core-web-sm==3.0.0) (0.7.3)\n",
            "Requirement already satisfied: murmurhash<1.1.0,>=0.28.0 in c:\\users\\chotu\\anaconda3\\lib\\site-packages (from spacy<3.1.0,>=3.0.0->en-core-web-sm==3.0.0) (1.0.4)\n",
            "Requirement already satisfied: catalogue<2.1.0,>=2.0.1 in c:\\users\\chotu\\anaconda3\\lib\\site-packages (from spacy<3.1.0,>=3.0.0->en-core-web-sm==3.0.0) (2.0.1)\n",
            "Requirement already satisfied: tqdm<5.0.0,>=4.38.0 in c:\\users\\chotu\\anaconda3\\lib\\site-packages (from spacy<3.1.0,>=3.0.0->en-core-web-sm==3.0.0) (4.54.0)\n",
            "Requirement already satisfied: packaging>=20.0 in c:\\users\\chotu\\anaconda3\\lib\\site-packages (from spacy<3.1.0,>=3.0.0->en-core-web-sm==3.0.0) (20.9)\n",
            "Requirement already satisfied: cymem<2.1.0,>=2.0.2 in c:\\users\\chotu\\anaconda3\\lib\\site-packages (from spacy<3.1.0,>=3.0.0->en-core-web-sm==3.0.0) (2.0.4)\n",
            "Requirement already satisfied: setuptools in c:\\users\\chotu\\anaconda3\\lib\\site-packages (from spacy<3.1.0,>=3.0.0->en-core-web-sm==3.0.0) (50.3.0)\n",
            "Requirement already satisfied: requests<3.0.0,>=2.13.0 in c:\\users\\chotu\\anaconda3\\lib\\site-packages (from spacy<3.1.0,>=3.0.0->en-core-web-sm==3.0.0) (2.21.0)\n",
            "Requirement already satisfied: wasabi<1.1.0,>=0.8.1 in c:\\users\\chotu\\anaconda3\\lib\\site-packages (from spacy<3.1.0,>=3.0.0->en-core-web-sm==3.0.0) (0.8.2)\n",
            "Requirement already satisfied: pydantic<1.8.0,>=1.7.1 in c:\\users\\chotu\\anaconda3\\lib\\site-packages (from spacy<3.1.0,>=3.0.0->en-core-web-sm==3.0.0) (1.7.3)\n",
            "Requirement already satisfied: importlib-metadata>=0.20; python_version < \"3.8\" in c:\\users\\chotu\\anaconda3\\lib\\site-packages (from spacy<3.1.0,>=3.0.0->en-core-web-sm==3.0.0) (3.1.0)\n",
            "Requirement already satisfied: typing-extensions>=3.7.4; python_version < \"3.8\" in c:\\users\\chotu\\anaconda3\\lib\\site-packages (from spacy<3.1.0,>=3.0.0->en-core-web-sm==3.0.0) (3.7.4.3)\n",
            "Requirement already satisfied: spacy-legacy<3.1.0,>=3.0.0 in c:\\users\\chotu\\anaconda3\\lib\\site-packages (from spacy<3.1.0,>=3.0.0->en-core-web-sm==3.0.0) (3.0.1)\n",
            "Requirement already satisfied: thinc<8.1.0,>=8.0.0 in c:\\users\\chotu\\anaconda3\\lib\\site-packages (from spacy<3.1.0,>=3.0.0->en-core-web-sm==3.0.0) (8.0.1)\n",
            "Requirement already satisfied: click<7.2.0,>=7.1.1 in c:\\users\\chotu\\anaconda3\\lib\\site-packages (from typer<0.4.0,>=0.3.0->spacy<3.1.0,>=3.0.0->en-core-web-sm==3.0.0) (7.1.2)\n",
            "Requirement already satisfied: MarkupSafe>=0.23 in c:\\users\\chotu\\anaconda3\\lib\\site-packages (from jinja2->spacy<3.1.0,>=3.0.0->en-core-web-sm==3.0.0) (1.1.1)\n",
            "Requirement already satisfied: smart-open<4.0.0,>=2.2.0 in c:\\users\\chotu\\anaconda3\\lib\\site-packages (from pathy->spacy<3.1.0,>=3.0.0->en-core-web-sm==3.0.0) (3.0.0)\n",
            "Requirement already satisfied: pyparsing>=2.0.2 in c:\\users\\chotu\\anaconda3\\lib\\site-packages (from packaging>=20.0->spacy<3.1.0,>=3.0.0->en-core-web-sm==3.0.0) (2.3.1)\n",
            "Requirement already satisfied: urllib3<1.25,>=1.21.1 in c:\\users\\chotu\\anaconda3\\lib\\site-packages (from requests<3.0.0,>=2.13.0->spacy<3.1.0,>=3.0.0->en-core-web-sm==3.0.0) (1.24.1)\n",
            "Requirement already satisfied: chardet<3.1.0,>=3.0.2 in c:\\users\\chotu\\anaconda3\\lib\\site-packages (from requests<3.0.0,>=2.13.0->spacy<3.1.0,>=3.0.0->en-core-web-sm==3.0.0) (3.0.4)\n",
            "Requirement already satisfied: idna<2.9,>=2.5 in c:\\users\\chotu\\anaconda3\\lib\\site-packages (from requests<3.0.0,>=2.13.0->spacy<3.1.0,>=3.0.0->en-core-web-sm==3.0.0) (2.8)\n",
            "Requirement already satisfied: certifi>=2017.4.17 in c:\\users\\chotu\\anaconda3\\lib\\site-packages (from requests<3.0.0,>=2.13.0->spacy<3.1.0,>=3.0.0->en-core-web-sm==3.0.0) (2019.3.9)\n",
            "Requirement already satisfied: zipp>=0.5 in c:\\users\\chotu\\anaconda3\\lib\\site-packages (from importlib-metadata>=0.20; python_version < \"3.8\"->spacy<3.1.0,>=3.0.0->en-core-web-sm==3.0.0) (3.4.0)\n",
            "Installing collected packages: en-core-web-sm\n",
            "Successfully installed en-core-web-sm-3.0.0\n",
            "[+] Download and installation successful\n",
            "You can now load the package via spacy.load('en_core_web_sm')\n"
          ]
        },
        {
          "name": "stderr",
          "output_type": "stream",
          "text": [
            "2021-06-17 11:13:06.240646: W tensorflow/stream_executor/platform/default/dso_loader.cc:60] Could not load dynamic library 'cudart64_110.dll'; dlerror: cudart64_110.dll not found\n",
            "2021-06-17 11:13:06.241360: I tensorflow/stream_executor/cuda/cudart_stub.cc:29] Ignore above cudart dlerror if you do not have a GPU set up on your machine.\n",
            "WARNING: You are using pip version 20.2.3; however, version 21.1.2 is available.\n",
            "You should consider upgrading via the 'C:\\Users\\chotu\\Anaconda3\\python.exe -m pip install --upgrade pip' command.\n"
          ]
        }
      ]
    },
    {
      "cell_type": "code",
      "metadata": {
        "id": "YTSNEH0ZusT8"
      },
      "source": [
        "## we have to apply NER before data preprocessing i.e normalisation/stemming/lemmatization"
      ],
      "execution_count": null,
      "outputs": []
    },
    {
      "cell_type": "code",
      "metadata": {
        "id": "qasN3ZklusT9"
      },
      "source": [
        ""
      ],
      "execution_count": null,
      "outputs": []
    },
    {
      "cell_type": "code",
      "metadata": {
        "id": "FRlRN_L3usT-",
        "outputId": "a59b91b0-c1a2-49fb-9246-6b6d796b74d2"
      },
      "source": [
        "import spacy\n",
        "\n",
        "# Load English tokenizer, tagger, parser and NER\n",
        "nlp = spacy.load(\"en_core_web_sm\")\n",
        "\n",
        "# Process whole documents\n",
        "\n",
        "text = ('''Perez Ortega has a strong background in biochemistry  enzymology  molecular  and cell biology and proven lab work experience  | Kevin was vice president of sales for richard allan scientific  a thermo fisher company where he helped grow the company into the leading anatomical pathology supplier in the u s  his background also includes extensive corporate and group purchasing contract negotiation and implementation  |  \n",
        "        Wistia net embed iframe l10y7lzwkx   uploaddate   2016 06 13   transcript    alarm clock beeping  n ni remember a day when i used to ndread traveling to conferences  n nhaving to be out the ndoor before wishing n nmy family a good morning  the ndreaded rush hour traffic  n nrushing through airports  living nin hotels  spending so much n nmoney on travel  |\n",
        "         Carlos Conejero is a senior quality management professional offering over 14 years of cumulative experience in the areas of quality systems  quality assurance  and quality control operations management.\n",
        "         Since its inception in 1998, AllCells has been a forward-thinking company with a fervent focus on providing the highest quality cells for biomedical researchers. Founded by Dr. Jay Tong, who, at that time, was a research scientist at Novartis-Systemix, AllCells was the first to provide a comprehensive portfolio of commercially available blood and bone marrow-derived primary cells including mobilized LeukoPak products to the market. This pioneering spirit led to the creation of a robust donor management system, optimized protocols for isolating human cells and the collection of human tissues in accordance with GMP standards, and a state-of-the-art quality management system.\n",
        "         For nearly 20 years, Blue Sky has been transforming the way organizations deliver virtual learning events and educational content.\n",
        "         Path-Tec has been delivering innovative specimen and client management solutions since 2005, and we understand the challenges that laboratories encounter with their pre-analytical processes. Our client support solutions include supply and kit management, inventory management, specimen and supply logistics, and client management technology.\n",
        "\n",
        "        When partnering with Path-Tec, laboratories benefit from our specimen management expertise to reduce costs, improve client service levels, and improve overall operational efficiencies. We are committed to helping your laboratory thrive in today’s changing healthcare landscape without sacrificing quality or service.\n",
        "        Based in Marseille - France, Modul-Bio has recorded consistent growth, deploying solutions for Biological Resource Centres, national cohort projects, biotechnology and cosmetics firms as well as diagnostic companies. Boasting expertise in computing and biology, the company has earned the recognition of commercial clients, academic clients and hospitals, mainly in France and Europe.\n",
        "''')\n",
        "doc = nlp(text)\n",
        "\n",
        "# Analyze syntax\n",
        "#print(\"Noun phrases:\", [chunk.text for chunk in doc.noun_chunks])\n",
        "#print(\"Verbs:\", [token.lemma_ for token in doc if token.pos_ == \"VERB\"])\n",
        "\n",
        "\n",
        "# Find named entities, phrases and concepts\n",
        "for entity in doc.ents:\n",
        "    text, label = entity.text, entity.label_\n",
        "    print(text, label)\n",
        "\n",
        "    \n",
        "    "
      ],
      "execution_count": null,
      "outputs": [
        {
          "name": "stdout",
          "output_type": "stream",
          "text": [
            "Perez Ortega PERSON\n",
            "Kevin PERSON\n",
            "2016 DATE\n",
            "a good morning TIME\n",
            "Carlos Conejero PERSON\n",
            "14 years DATE\n",
            "1998 DATE\n",
            "AllCells ORG\n",
            "Jay Tong PERSON\n",
            "Novartis-Systemix ORG\n",
            "AllCells ORG\n",
            "first ORDINAL\n",
            "LeukoPak ORG\n",
            "nearly 20 years DATE\n",
            "Blue Sky GPE\n",
            "Path-Tec PERSON\n",
            "2005 DATE\n",
            "Path-Tec PERSON\n",
            "today DATE\n",
            "Marseille GPE\n",
            "Modul-Bio ORG\n",
            "Biological Resource Centres ORG\n",
            "Boasting PERSON\n",
            "France GPE\n",
            "Europe LOC\n"
          ]
        }
      ]
    },
    {
      "cell_type": "code",
      "metadata": {
        "id": "A0aTF956usUB",
        "outputId": "b8a8cc07-8ba4-4404-daa0-8f7b7a070e06"
      },
      "source": [
        "from spacy.lang.en import English\n",
        "lst = ['AllCells','Path-Tec','Modul-Bio','Blue Sky','Indivumed GmbH']\n",
        "nlp = English()\n",
        "ruler = nlp.add_pipe(\"entity_ruler\")\n",
        "li = []\n",
        "for index in range(0,len(lst)):\n",
        "    patterns = {\"label\": \"ORG\", \"pattern\":lst[index]}\n",
        "    li.append( patterns)\n",
        "    \n",
        "    \n",
        "            \n",
        "ruler.add_patterns(li)\n",
        "text = ''' Path-Tec has been delivering innovative specimen and client management solutions since 2005, and we understand the challenges that laboratories encounter with their pre-analytical processes. Our client support solutions include supply and kit management, inventory management, specimen and supply logistics, and client management technology.\n",
        "         Since its inception in 1998, AllCells has been a forward-thinking company with a fervent focus on providing the highest quality cells for biomedical researchers. Founded by Dr. Jay Tong, who, at that time, was a research scientist at Novartis-Systemix, AllCells was the first to provide a comprehensive portfolio of commercially available blood and bone marrow-derived primary cells including mobilized LeukoPak products to the market. This pioneering spirit led to the creation of a robust donor management system, optimized protocols for isolating human cells and the collection of human tissues in accordance with GMP standards, and a state-of-the-art quality management system.\n",
        "         For nearly 20 years, Blue Sky has been transforming the way organizations deliver virtual learning events and educational content.\n",
        "         Path-Tec has been delivering innovative specimen and client management solutions since 2005, and we understand the challenges that laboratories encounter with their pre-analytical processes. Our client support solutions include supply and kit management, inventory management, specimen and supply logistics, and client management technology.'''\n",
        "doc = nlp(text)\n",
        "print(set([(ent.text, ent.label_) for ent in doc.ents]))\n",
        "\n"
      ],
      "execution_count": null,
      "outputs": [
        {
          "name": "stdout",
          "output_type": "stream",
          "text": [
            "{('AllCells', 'ORG'), ('Path-Tec', 'ORG'), ('Blue Sky', 'ORG')}\n"
          ]
        }
      ]
    },
    {
      "cell_type": "markdown",
      "metadata": {
        "id": "-SwUDnTLu35g"
      },
      "source": [
        "# From fuzzy logic find out the percentage similarity of words"
      ]
    },
    {
      "cell_type": "code",
      "metadata": {
        "id": "wAM7NgXIusUC",
        "outputId": "533b812b-ece5-4680-c2a1-3c01fe65171a"
      },
      "source": [
        "from fuzzywuzzy import fuzz, process "
      ],
      "execution_count": null,
      "outputs": [
        {
          "name": "stderr",
          "output_type": "stream",
          "text": [
            "C:\\Users\\chotu\\Anaconda3\\lib\\site-packages\\fuzzywuzzy\\fuzz.py:11: UserWarning: Using slow pure-python SequenceMatcher. Install python-Levenshtein to remove this warning\n",
            "  warnings.warn('Using slow pure-python SequenceMatcher. Install python-Levenshtein to remove this warning')\n"
          ]
        }
      ]
    },
    {
      "cell_type": "code",
      "metadata": {
        "id": "DGoHgGYJusUD"
      },
      "source": [
        "def fuzzy_logic(string):\n",
        "    \"\"\"\n",
        "    input: \n",
        "        string: the string for which we require best match of keyword\n",
        "    output:\n",
        "        fuzzy_keyword_ratio[0]: Keyword with best fuzzy score\n",
        "        fuzzy_keyword_ratio[1]: Fuzzy score of the Keyword\n",
        "    \"\"\"  \n",
        "    Keywords = ['AllCells','Path-Tec','Modul-Bio','Blue Sky']\n",
        "    # Apply partial ratio to get the best matching keyword\n",
        "    # from the Keywords\n",
        "    for keywords in range(len(Keywords)):\n",
        "        fuzzy_keyword_ratio=process.extract(string,Keywords,\n",
        "                                           scorer=fuzz.partial_ratio)\n",
        "    return fuzzy_keyword_ratio[0],fuzzy_keyword_ratio[1]\n"
      ],
      "execution_count": null,
      "outputs": []
    },
    {
      "cell_type": "code",
      "metadata": {
        "id": "Oe4B5XqPusUF"
      },
      "source": [
        "string = '''Perez Ortega has a strong background in biochemistry  enzymology  molecular  and cell biology and proven lab work experience  | Kevin was vice president of sales for richard allan scientific  a thermo fisher company where he helped grow the company into the leading anatomical pathology supplier in the u s  his background also includes extensive corporate and group purchasing contract negotiation and implementation  |  \n",
        "        Wistia net embed iframe l10y7lzwkx   uploaddate   2016 06 13   transcript    alarm clock beeping  n ni remember a day when i used to ndread traveling to conferences  n nhaving to be out the ndoor before wishing n nmy family a good morning  the ndreaded rush hour traffic  n nrushing through airports  living nin hotels  spending so much n nmoney on travel  |\n",
        "         Carlos Conejero is a senior quality management professional offering over 14 years of cumulative experience in the areas of quality systems  quality assurance  and quality control operations management.\n",
        "         Since its inception in 1998, AllCells has been a forward-thinking company with a fervent focus on providing the highest quality cells for biomedical researchers. Founded by Dr. Jay Tong, who, at that time, was a research scientist at Novartis-Systemix, AllCells was the first to provide a comprehensive portfolio of commercially available blood and bone marrow-derived primary cells including mobilized LeukoPak products to the market. This pioneering spirit led to the creation of a robust donor management system, optimized protocols for isolating human cells and the collection of human tissues in accordance with GMP standards, and a state-of-the-art quality management system.\n",
        "         For nearly 20 years, Blue Sky has been transforming the way organizations deliver virtual learning events and educational content.\n",
        "         Path-Tec has been delivering innovative specimen and client management solutions since 2005, and we understand the challenges that laboratories encounter with their pre-analytical processes. Our client support solutions include supply and kit management, inventory management, specimen and supply logistics, and client management technology.\n",
        "\n",
        "        When partnering with Path-Tec,llc laboratories benefit from our specimen management expertise to reduce costs, improve client service levels, and improve overall operational efficiencies. We are committed to helping your laboratory thrive in today’s changing healthcare landscape without sacrificing quality or service.\n",
        "        Based in Marseille - France, Modul-Bio has recorded consistent growth, deploying solutions for Biological Resource Centres, national cohort projects, biotechnology and cosmetics firms as well as diagnostic companies. Boasting expertise in computing and biology, the company has earned the recognition of commercial clients, academic clients and hospitals, mainly in France and Europe.\n",
        "        '''"
      ],
      "execution_count": null,
      "outputs": []
    },
    {
      "cell_type": "code",
      "metadata": {
        "id": "Q9cj9VoDusUG",
        "outputId": "3b19e07a-93fe-4e85-8036-2150a1bf2eb6"
      },
      "source": [
        "fuzzy_logic(string)\n"
      ],
      "execution_count": null,
      "outputs": [
        {
          "data": {
            "text/plain": [
              "(('Path-Tec', 25), ('Blue Sky', 25))"
            ]
          },
          "execution_count": 104,
          "metadata": {},
          "output_type": "execute_result"
        }
      ]
    },
    {
      "cell_type": "code",
      "metadata": {
        "id": "Xgu914STusUH",
        "outputId": "5789a43d-ba5b-4a90-81bb-82fe73cd1766"
      },
      "source": [
        "\n",
        "Keywords = ['AllCells','Path-Tec','Modul-Bio','Blue Sky']\n",
        "    # Apply partial ratio to get the best matching keyword\n",
        "    # from the Keywords\n",
        "for keywords in range(len(Keywords)):\n",
        "    fuzzy_keyword_ratio=process.extract(string,Keywords,\n",
        "                                           scorer=fuzz.partial_ratio)\n",
        "    \n",
        "print(fuzzy_keyword_ratio[0],fuzzy_keyword_ratio[1])"
      ],
      "execution_count": null,
      "outputs": [
        {
          "name": "stdout",
          "output_type": "stream",
          "text": [
            "('Path-Tec', 25) ('Blue Sky', 25)\n"
          ]
        }
      ]
    }
  ]
}